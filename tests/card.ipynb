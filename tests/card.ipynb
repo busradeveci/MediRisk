{
 "cells": [
  {
   "cell_type": "markdown",
   "id": "63c04f17",
   "metadata": {},
   "source": [
    "# 🫀 Cardiovascular Disease Prediction Analysis\n",
    "## PACE Yaklaşımı ile End-to-End Veri Bilimi Projesi\n",
    "\n",
    "---\n",
    "\n",
    "### 📋 Proje Genel Bakış\n",
    "\n",
    "Bu proje, **PACE (Plan, Analyze, Construct, Execute)** metodolojisi kullanarak cardiovascular hastalık tahmin modellemesi yapmayı amaçlamaktadır. Analiz sonucunda elde edilen model, Flask web framework'ü ile kullanıcı dostu bir web uygulamasına dönüştürülecektir.\n",
    "\n",
    "### 🎯 Proje Hedefleri\n",
    "- Cardiovascular hastalık risk faktörlerini analiz etmek\n",
    "- Tahmin modeli geliştirmek\n",
    "- Web tabanlı interaktif dashboard oluşturmak\n",
    "- End-to-end deployment sağlamak\n",
    "\n",
    "### 📊 Veri Seti Hakkında\n",
    "- **Kaynak**: Cardiovascular Disease Dataset\n",
    "- **Hedef**: Kalp hastalığı tahmin (binary classification)\n",
    "- **Özellikler**: Demografik, klinik ve laboratuvar verileri\n",
    "\n",
    "---"
   ]
  },
  {
   "cell_type": "markdown",
   "id": "197b435d",
   "metadata": {},
   "source": [
    "## 🎯 PACE Aşama 1: PLAN (Planlama)\n",
    "\n",
    "### 📋 İş Problemi Tanımlama\n",
    "Cardiovascular hastalıklar dünya genelinde önde gelen ölüm nedenlerinden biridir. Bu projede:\n",
    "- **Ana Hedef**: Hasta verilerine dayanarak cardiovascular hastalık riskini tahmin etmek\n",
    "- **İş Değeri**: Erken tanı ve önleyici tedavi imkanı sağlamak\n",
    "- **Başarı Metrikleri**: Model doğruluğu %85+ ve web uygulaması kullanım kolaylığı\n",
    "\n",
    "### 🔍 Veri Anlayışı ve Hipotezler\n",
    "**Ana Hipotezler:**\n",
    "1. Yaş arttıkça cardiovascular hastalık riski artar\n",
    "2. Erkeklerde risk daha yüksektir\n",
    "3. Yüksek kolesterol ve kan basıncı risk faktörleridir\n",
    "4. Egzersiz kapasitesi (max heart rate) koruyucu faktördür\n",
    "\n",
    "### 📈 Analitik Yaklaşım\n",
    "- **Model Tipi**: Binary Classification (Supervised Learning)\n",
    "- **Değerlendirme Metrikleri**: Accuracy, Precision, Recall, F1-Score, ROC-AUC\n",
    "- **Deployment**: Flask web uygulaması ile real-time tahmin\n",
    "\n",
    "---"
   ]
  },
  {
   "cell_type": "code",
   "execution_count": 3,
   "id": "4a73f636",
   "metadata": {},
   "outputs": [
    {
     "name": "stdout",
     "output_type": "stream",
     "text": [
      "✅ Tüm kütüphaneler başarıyla yüklendi!\n",
      "📊 Pandas version: 2.2.2\n",
      "🔢 Numpy version: 1.26.4\n",
      "📈 Matplotlib version: 3.9.2\n",
      "🎨 Seaborn version: 0.13.2\n"
     ]
    }
   ],
   "source": [
    "# 📚 Gerekli Kütüphanelerin İmport Edilmesi\n",
    "import pandas as pd\n",
    "import numpy as np\n",
    "import matplotlib.pyplot as plt\n",
    "import seaborn as sns\n",
    "import plotly.express as px\n",
    "import plotly.graph_objects as go\n",
    "from plotly.subplots import make_subplots\n",
    "import warnings\n",
    "warnings.filterwarnings('ignore')\n",
    "\n",
    "# Scikit-learn Kütüphaneleri\n",
    "from sklearn.model_selection import train_test_split, cross_val_score, GridSearchCV\n",
    "from sklearn.preprocessing import StandardScaler, LabelEncoder\n",
    "from sklearn.ensemble import RandomForestClassifier, GradientBoostingClassifier\n",
    "from sklearn.linear_model import LogisticRegression\n",
    "from sklearn.svm import SVC\n",
    "from sklearn.metrics import (accuracy_score, precision_score, recall_score, \n",
    "                           f1_score, roc_auc_score, confusion_matrix, \n",
    "                           classification_report, roc_curve)\n",
    "\n",
    "# Görselleştirme Ayarları\n",
    "plt.style.use('seaborn-v0_8')\n",
    "sns.set_palette(\"husl\")\n",
    "plt.rcParams['figure.figsize'] = (12, 8)\n",
    "plt.rcParams['font.size'] = 12\n",
    "\n",
    "# Pandas Display Ayarları\n",
    "pd.set_option('display.max_columns', None)\n",
    "pd.set_option('display.width', None)\n",
    "\n",
    "print(\"✅ Tüm kütüphaneler başarıyla yüklendi!\")\n",
    "print(f\"📊 Pandas version: {pd.__version__}\")\n",
    "print(f\"🔢 Numpy version: {np.__version__}\")\n",
    "print(f\"📈 Matplotlib version: {plt.matplotlib.__version__}\")\n",
    "print(f\"🎨 Seaborn version: {sns.__version__}\")"
   ]
  },
  {
   "cell_type": "markdown",
   "id": "d3495267",
   "metadata": {},
   "source": [
    "## 📊 PACE Aşama 2: ANALYZE (Analiz) - Başlangıç\n",
    "\n",
    "### 🔍 Veri Yükleme ve İlk Keşif"
   ]
  },
  {
   "cell_type": "code",
   "execution_count": 4,
   "id": "f0941e40",
   "metadata": {},
   "outputs": [
    {
     "name": "stdout",
     "output_type": "stream",
     "text": [
      "🎯 VERİ SETİ GENEL BİLGİLERİ\n",
      "==================================================\n",
      "📏 Veri Seti Boyutu: 1000 satır, 14 sütun\n",
      "💾 Bellek Kullanımı: 0.11 MB\n",
      "\n",
      "==================================================\n",
      "\n",
      "📋 İLK 5 KAYIT:\n"
     ]
    },
    {
     "data": {
      "text/html": [
       "<div>\n",
       "<style scoped>\n",
       "    .dataframe tbody tr th:only-of-type {\n",
       "        vertical-align: middle;\n",
       "    }\n",
       "\n",
       "    .dataframe tbody tr th {\n",
       "        vertical-align: top;\n",
       "    }\n",
       "\n",
       "    .dataframe thead th {\n",
       "        text-align: right;\n",
       "    }\n",
       "</style>\n",
       "<table border=\"1\" class=\"dataframe\">\n",
       "  <thead>\n",
       "    <tr style=\"text-align: right;\">\n",
       "      <th></th>\n",
       "      <th>patientid</th>\n",
       "      <th>age</th>\n",
       "      <th>gender</th>\n",
       "      <th>chestpain</th>\n",
       "      <th>restingBP</th>\n",
       "      <th>serumcholestrol</th>\n",
       "      <th>fastingbloodsugar</th>\n",
       "      <th>restingrelectro</th>\n",
       "      <th>maxheartrate</th>\n",
       "      <th>exerciseangia</th>\n",
       "      <th>oldpeak</th>\n",
       "      <th>slope</th>\n",
       "      <th>noofmajorvessels</th>\n",
       "      <th>target</th>\n",
       "    </tr>\n",
       "  </thead>\n",
       "  <tbody>\n",
       "    <tr>\n",
       "      <th>0</th>\n",
       "      <td>103368</td>\n",
       "      <td>53</td>\n",
       "      <td>1</td>\n",
       "      <td>2</td>\n",
       "      <td>171</td>\n",
       "      <td>0</td>\n",
       "      <td>0</td>\n",
       "      <td>1</td>\n",
       "      <td>147</td>\n",
       "      <td>0</td>\n",
       "      <td>5.3</td>\n",
       "      <td>3</td>\n",
       "      <td>3</td>\n",
       "      <td>1</td>\n",
       "    </tr>\n",
       "    <tr>\n",
       "      <th>1</th>\n",
       "      <td>119250</td>\n",
       "      <td>40</td>\n",
       "      <td>1</td>\n",
       "      <td>0</td>\n",
       "      <td>94</td>\n",
       "      <td>229</td>\n",
       "      <td>0</td>\n",
       "      <td>1</td>\n",
       "      <td>115</td>\n",
       "      <td>0</td>\n",
       "      <td>3.7</td>\n",
       "      <td>1</td>\n",
       "      <td>1</td>\n",
       "      <td>0</td>\n",
       "    </tr>\n",
       "    <tr>\n",
       "      <th>2</th>\n",
       "      <td>119372</td>\n",
       "      <td>49</td>\n",
       "      <td>1</td>\n",
       "      <td>2</td>\n",
       "      <td>133</td>\n",
       "      <td>142</td>\n",
       "      <td>0</td>\n",
       "      <td>0</td>\n",
       "      <td>202</td>\n",
       "      <td>1</td>\n",
       "      <td>5.0</td>\n",
       "      <td>1</td>\n",
       "      <td>0</td>\n",
       "      <td>0</td>\n",
       "    </tr>\n",
       "    <tr>\n",
       "      <th>3</th>\n",
       "      <td>132514</td>\n",
       "      <td>43</td>\n",
       "      <td>1</td>\n",
       "      <td>0</td>\n",
       "      <td>138</td>\n",
       "      <td>295</td>\n",
       "      <td>1</td>\n",
       "      <td>1</td>\n",
       "      <td>153</td>\n",
       "      <td>0</td>\n",
       "      <td>3.2</td>\n",
       "      <td>2</td>\n",
       "      <td>2</td>\n",
       "      <td>1</td>\n",
       "    </tr>\n",
       "    <tr>\n",
       "      <th>4</th>\n",
       "      <td>146211</td>\n",
       "      <td>31</td>\n",
       "      <td>1</td>\n",
       "      <td>1</td>\n",
       "      <td>199</td>\n",
       "      <td>0</td>\n",
       "      <td>0</td>\n",
       "      <td>2</td>\n",
       "      <td>136</td>\n",
       "      <td>0</td>\n",
       "      <td>5.3</td>\n",
       "      <td>3</td>\n",
       "      <td>2</td>\n",
       "      <td>1</td>\n",
       "    </tr>\n",
       "  </tbody>\n",
       "</table>\n",
       "</div>"
      ],
      "text/plain": [
       "   patientid  age  gender  chestpain  restingBP  serumcholestrol  \\\n",
       "0     103368   53       1          2        171                0   \n",
       "1     119250   40       1          0         94              229   \n",
       "2     119372   49       1          2        133              142   \n",
       "3     132514   43       1          0        138              295   \n",
       "4     146211   31       1          1        199                0   \n",
       "\n",
       "   fastingbloodsugar  restingrelectro  maxheartrate  exerciseangia  oldpeak  \\\n",
       "0                  0                1           147              0      5.3   \n",
       "1                  0                1           115              0      3.7   \n",
       "2                  0                0           202              1      5.0   \n",
       "3                  1                1           153              0      3.2   \n",
       "4                  0                2           136              0      5.3   \n",
       "\n",
       "   slope  noofmajorvessels  target  \n",
       "0      3                 3       1  \n",
       "1      1                 1       0  \n",
       "2      1                 0       0  \n",
       "3      2                 2       1  \n",
       "4      3                 2       1  "
      ]
     },
     "metadata": {},
     "output_type": "display_data"
    },
    {
     "name": "stdout",
     "output_type": "stream",
     "text": [
      "\n",
      "🔍 SÜTUN BİLGİLERİ:\n",
      "<class 'pandas.core.frame.DataFrame'>\n",
      "RangeIndex: 1000 entries, 0 to 999\n",
      "Data columns (total 14 columns):\n",
      " #   Column             Non-Null Count  Dtype  \n",
      "---  ------             --------------  -----  \n",
      " 0   patientid          1000 non-null   int64  \n",
      " 1   age                1000 non-null   int64  \n",
      " 2   gender             1000 non-null   int64  \n",
      " 3   chestpain          1000 non-null   int64  \n",
      " 4   restingBP          1000 non-null   int64  \n",
      " 5   serumcholestrol    1000 non-null   int64  \n",
      " 6   fastingbloodsugar  1000 non-null   int64  \n",
      " 7   restingrelectro    1000 non-null   int64  \n",
      " 8   maxheartrate       1000 non-null   int64  \n",
      " 9   exerciseangia      1000 non-null   int64  \n",
      " 10  oldpeak            1000 non-null   float64\n",
      " 11  slope              1000 non-null   int64  \n",
      " 12  noofmajorvessels   1000 non-null   int64  \n",
      " 13  target             1000 non-null   int64  \n",
      "dtypes: float64(1), int64(13)\n",
      "memory usage: 109.5 KB\n",
      "None\n",
      "\n",
      "📈 İSTATİSTİKSEL ÖZET:\n"
     ]
    },
    {
     "data": {
      "text/html": [
       "<div>\n",
       "<style scoped>\n",
       "    .dataframe tbody tr th:only-of-type {\n",
       "        vertical-align: middle;\n",
       "    }\n",
       "\n",
       "    .dataframe tbody tr th {\n",
       "        vertical-align: top;\n",
       "    }\n",
       "\n",
       "    .dataframe thead th {\n",
       "        text-align: right;\n",
       "    }\n",
       "</style>\n",
       "<table border=\"1\" class=\"dataframe\">\n",
       "  <thead>\n",
       "    <tr style=\"text-align: right;\">\n",
       "      <th></th>\n",
       "      <th>patientid</th>\n",
       "      <th>age</th>\n",
       "      <th>gender</th>\n",
       "      <th>chestpain</th>\n",
       "      <th>restingBP</th>\n",
       "      <th>serumcholestrol</th>\n",
       "      <th>fastingbloodsugar</th>\n",
       "      <th>restingrelectro</th>\n",
       "      <th>maxheartrate</th>\n",
       "      <th>exerciseangia</th>\n",
       "      <th>oldpeak</th>\n",
       "      <th>slope</th>\n",
       "      <th>noofmajorvessels</th>\n",
       "      <th>target</th>\n",
       "    </tr>\n",
       "  </thead>\n",
       "  <tbody>\n",
       "    <tr>\n",
       "      <th>count</th>\n",
       "      <td>1.000000e+03</td>\n",
       "      <td>1000.00000</td>\n",
       "      <td>1000.000000</td>\n",
       "      <td>1000.000000</td>\n",
       "      <td>1000.000000</td>\n",
       "      <td>1000.000000</td>\n",
       "      <td>1000.000000</td>\n",
       "      <td>1000.000000</td>\n",
       "      <td>1000.000000</td>\n",
       "      <td>1000.000000</td>\n",
       "      <td>1000.000000</td>\n",
       "      <td>1000.000000</td>\n",
       "      <td>1000.000000</td>\n",
       "      <td>1000.000000</td>\n",
       "    </tr>\n",
       "    <tr>\n",
       "      <th>mean</th>\n",
       "      <td>5.048704e+06</td>\n",
       "      <td>49.24200</td>\n",
       "      <td>0.765000</td>\n",
       "      <td>0.980000</td>\n",
       "      <td>151.747000</td>\n",
       "      <td>311.447000</td>\n",
       "      <td>0.296000</td>\n",
       "      <td>0.748000</td>\n",
       "      <td>145.477000</td>\n",
       "      <td>0.498000</td>\n",
       "      <td>2.707700</td>\n",
       "      <td>1.540000</td>\n",
       "      <td>1.222000</td>\n",
       "      <td>0.580000</td>\n",
       "    </tr>\n",
       "    <tr>\n",
       "      <th>std</th>\n",
       "      <td>2.895905e+06</td>\n",
       "      <td>17.86473</td>\n",
       "      <td>0.424211</td>\n",
       "      <td>0.953157</td>\n",
       "      <td>29.965228</td>\n",
       "      <td>132.443801</td>\n",
       "      <td>0.456719</td>\n",
       "      <td>0.770123</td>\n",
       "      <td>34.190268</td>\n",
       "      <td>0.500246</td>\n",
       "      <td>1.720753</td>\n",
       "      <td>1.003697</td>\n",
       "      <td>0.977585</td>\n",
       "      <td>0.493805</td>\n",
       "    </tr>\n",
       "    <tr>\n",
       "      <th>min</th>\n",
       "      <td>1.033680e+05</td>\n",
       "      <td>20.00000</td>\n",
       "      <td>0.000000</td>\n",
       "      <td>0.000000</td>\n",
       "      <td>94.000000</td>\n",
       "      <td>0.000000</td>\n",
       "      <td>0.000000</td>\n",
       "      <td>0.000000</td>\n",
       "      <td>71.000000</td>\n",
       "      <td>0.000000</td>\n",
       "      <td>0.000000</td>\n",
       "      <td>0.000000</td>\n",
       "      <td>0.000000</td>\n",
       "      <td>0.000000</td>\n",
       "    </tr>\n",
       "    <tr>\n",
       "      <th>25%</th>\n",
       "      <td>2.536440e+06</td>\n",
       "      <td>34.00000</td>\n",
       "      <td>1.000000</td>\n",
       "      <td>0.000000</td>\n",
       "      <td>129.000000</td>\n",
       "      <td>235.750000</td>\n",
       "      <td>0.000000</td>\n",
       "      <td>0.000000</td>\n",
       "      <td>119.750000</td>\n",
       "      <td>0.000000</td>\n",
       "      <td>1.300000</td>\n",
       "      <td>1.000000</td>\n",
       "      <td>0.000000</td>\n",
       "      <td>0.000000</td>\n",
       "    </tr>\n",
       "    <tr>\n",
       "      <th>50%</th>\n",
       "      <td>4.952508e+06</td>\n",
       "      <td>49.00000</td>\n",
       "      <td>1.000000</td>\n",
       "      <td>1.000000</td>\n",
       "      <td>147.000000</td>\n",
       "      <td>318.000000</td>\n",
       "      <td>0.000000</td>\n",
       "      <td>1.000000</td>\n",
       "      <td>146.000000</td>\n",
       "      <td>0.000000</td>\n",
       "      <td>2.400000</td>\n",
       "      <td>2.000000</td>\n",
       "      <td>1.000000</td>\n",
       "      <td>1.000000</td>\n",
       "    </tr>\n",
       "    <tr>\n",
       "      <th>75%</th>\n",
       "      <td>7.681877e+06</td>\n",
       "      <td>64.25000</td>\n",
       "      <td>1.000000</td>\n",
       "      <td>2.000000</td>\n",
       "      <td>181.000000</td>\n",
       "      <td>404.250000</td>\n",
       "      <td>1.000000</td>\n",
       "      <td>1.000000</td>\n",
       "      <td>175.000000</td>\n",
       "      <td>1.000000</td>\n",
       "      <td>4.100000</td>\n",
       "      <td>2.000000</td>\n",
       "      <td>2.000000</td>\n",
       "      <td>1.000000</td>\n",
       "    </tr>\n",
       "    <tr>\n",
       "      <th>max</th>\n",
       "      <td>9.990855e+06</td>\n",
       "      <td>80.00000</td>\n",
       "      <td>1.000000</td>\n",
       "      <td>3.000000</td>\n",
       "      <td>200.000000</td>\n",
       "      <td>602.000000</td>\n",
       "      <td>1.000000</td>\n",
       "      <td>2.000000</td>\n",
       "      <td>202.000000</td>\n",
       "      <td>1.000000</td>\n",
       "      <td>6.200000</td>\n",
       "      <td>3.000000</td>\n",
       "      <td>3.000000</td>\n",
       "      <td>1.000000</td>\n",
       "    </tr>\n",
       "  </tbody>\n",
       "</table>\n",
       "</div>"
      ],
      "text/plain": [
       "          patientid         age       gender    chestpain    restingBP  \\\n",
       "count  1.000000e+03  1000.00000  1000.000000  1000.000000  1000.000000   \n",
       "mean   5.048704e+06    49.24200     0.765000     0.980000   151.747000   \n",
       "std    2.895905e+06    17.86473     0.424211     0.953157    29.965228   \n",
       "min    1.033680e+05    20.00000     0.000000     0.000000    94.000000   \n",
       "25%    2.536440e+06    34.00000     1.000000     0.000000   129.000000   \n",
       "50%    4.952508e+06    49.00000     1.000000     1.000000   147.000000   \n",
       "75%    7.681877e+06    64.25000     1.000000     2.000000   181.000000   \n",
       "max    9.990855e+06    80.00000     1.000000     3.000000   200.000000   \n",
       "\n",
       "       serumcholestrol  fastingbloodsugar  restingrelectro  maxheartrate  \\\n",
       "count      1000.000000        1000.000000      1000.000000   1000.000000   \n",
       "mean        311.447000           0.296000         0.748000    145.477000   \n",
       "std         132.443801           0.456719         0.770123     34.190268   \n",
       "min           0.000000           0.000000         0.000000     71.000000   \n",
       "25%         235.750000           0.000000         0.000000    119.750000   \n",
       "50%         318.000000           0.000000         1.000000    146.000000   \n",
       "75%         404.250000           1.000000         1.000000    175.000000   \n",
       "max         602.000000           1.000000         2.000000    202.000000   \n",
       "\n",
       "       exerciseangia      oldpeak        slope  noofmajorvessels       target  \n",
       "count    1000.000000  1000.000000  1000.000000       1000.000000  1000.000000  \n",
       "mean        0.498000     2.707700     1.540000          1.222000     0.580000  \n",
       "std         0.500246     1.720753     1.003697          0.977585     0.493805  \n",
       "min         0.000000     0.000000     0.000000          0.000000     0.000000  \n",
       "25%         0.000000     1.300000     1.000000          0.000000     0.000000  \n",
       "50%         0.000000     2.400000     2.000000          1.000000     1.000000  \n",
       "75%         1.000000     4.100000     2.000000          2.000000     1.000000  \n",
       "max         1.000000     6.200000     3.000000          3.000000     1.000000  "
      ]
     },
     "metadata": {},
     "output_type": "display_data"
    }
   ],
   "source": [
    "# 📊 Veri Setini Yükleme\n",
    "df = pd.read_csv('/Users/erencice/Downloads/Cardiovascular_Disease_Dataset.csv')\n",
    "\n",
    "print(\"🎯 VERİ SETİ GENEL BİLGİLERİ\")\n",
    "print(\"=\" * 50)\n",
    "print(f\"📏 Veri Seti Boyutu: {df.shape[0]} satır, {df.shape[1]} sütun\")\n",
    "print(f\"💾 Bellek Kullanımı: {df.memory_usage().sum() / 1024**2:.2f} MB\")\n",
    "print(\"\\n\" + \"=\"*50)\n",
    "\n",
    "# İlk 5 satırı görüntüleme\n",
    "print(\"\\n📋 İLK 5 KAYIT:\")\n",
    "display(df.head())\n",
    "\n",
    "# Veri tipi bilgileri\n",
    "print(\"\\n🔍 SÜTUN BİLGİLERİ:\")\n",
    "print(df.info())\n",
    "\n",
    "# Temel istatistiksel özet\n",
    "print(\"\\n📈 İSTATİSTİKSEL ÖZET:\")\n",
    "display(df.describe())"
   ]
  },
  {
   "cell_type": "code",
   "execution_count": 5,
   "id": "8269a7b5",
   "metadata": {},
   "outputs": [
    {
     "name": "stdout",
     "output_type": "stream",
     "text": [
      "🔍 EKSİK DEĞER ANALİZİ\n",
      "========================================\n",
      "✅ Veri setinde eksik değer bulunmuyor!\n",
      "\n",
      "🔄 DUPLICATE KAYIT KONTROLÜ\n",
      "========================================\n",
      "Duplicate kayıt sayısı: 0\n",
      "✅ Duplicate kayıt bulunmuyor!\n",
      "\n",
      "📊 Temizlenmiş veri seti boyutu: (1000, 14)\n",
      "\n",
      "✅ Sütun isimleri güncellendi!\n",
      "Yeni sütun isimleri: ['patient_id', 'age', 'gender', 'chest_pain_type', 'resting_blood_pressure', 'serum_cholesterol', 'fasting_blood_sugar', 'resting_ecg', 'max_heart_rate', 'exercise_angina', 'oldpeak', 'slope', 'num_major_vessels', 'target']\n"
     ]
    }
   ],
   "source": [
    "# 🧹 Veri Temizleme ve Kalite Kontrolü\n",
    "\n",
    "print(\"🔍 EKSİK DEĞER ANALİZİ\")\n",
    "print(\"=\" * 40)\n",
    "missing_data = df.isnull().sum()\n",
    "missing_percentage = (missing_data / len(df)) * 100\n",
    "missing_df = pd.DataFrame({\n",
    "    'Sütun': missing_data.index,\n",
    "    'Eksik Değer': missing_data.values,\n",
    "    'Yüzde (%)': missing_percentage.values\n",
    "})\n",
    "missing_df = missing_df[missing_df['Eksik Değer'] > 0].sort_values('Eksik Değer', ascending=False)\n",
    "\n",
    "if len(missing_df) > 0:\n",
    "    display(missing_df)\n",
    "else:\n",
    "    print(\"✅ Veri setinde eksik değer bulunmuyor!\")\n",
    "\n",
    "print(\"\\n🔄 DUPLICATE KAYIT KONTROLÜ\")\n",
    "print(\"=\" * 40)\n",
    "duplicates = df.duplicated().sum()\n",
    "print(f\"Duplicate kayıt sayısı: {duplicates}\")\n",
    "\n",
    "if duplicates > 0:\n",
    "    df = df.drop_duplicates()\n",
    "    print(f\"✅ {duplicates} duplicate kayıt silindi!\")\n",
    "else:\n",
    "    print(\"✅ Duplicate kayıt bulunmuyor!\")\n",
    "\n",
    "print(f\"\\n📊 Temizlenmiş veri seti boyutu: {df.shape}\")\n",
    "\n",
    "# Sütun isimlerini daha anlaşılır hale getirme\n",
    "column_mapping = {\n",
    "    'patientid': 'patient_id',\n",
    "    'chestpain': 'chest_pain_type',\n",
    "    'restingBP': 'resting_blood_pressure',\n",
    "    'serumcholestrol': 'serum_cholesterol',\n",
    "    'fastingbloodsugar': 'fasting_blood_sugar',\n",
    "    'restingrelectro': 'resting_ecg',\n",
    "    'maxheartrate': 'max_heart_rate',\n",
    "    'exerciseangia': 'exercise_angina',\n",
    "    'noofmajorvessels': 'num_major_vessels'\n",
    "}\n",
    "\n",
    "df = df.rename(columns=column_mapping)\n",
    "print(\"\\n✅ Sütun isimleri güncellendi!\")\n",
    "print(\"Yeni sütun isimleri:\", df.columns.tolist())"
   ]
  },
  {
   "cell_type": "code",
   "execution_count": 6,
   "id": "e6cd10ed",
   "metadata": {},
   "outputs": [
    {
     "data": {
      "application/vnd.plotly.v1+json": {
       "config": {
        "plotlyServerURL": "https://plot.ly"
       },
       "data": [
        {
         "marker": {
          "color": [
           "lightblue",
           "salmon"
          ]
         },
         "text": {
          "bdata": "AAAAAAAggkAAAAAAAEB6QA==",
          "dtype": "f8"
         },
         "textposition": "auto",
         "type": "bar",
         "x": [
          "Sağlıklı",
          "Cardiovascular Hastalık"
         ],
         "xaxis": "x",
         "y": {
          "bdata": "RAKkAQ==",
          "dtype": "i2"
         },
         "yaxis": "y"
        },
        {
         "domain": {
          "x": [
           0.55,
           1
          ],
          "y": [
           0,
           1
          ]
         },
         "labels": [
          "Sağlıklı",
          "Cardiovascular Hastalık"
         ],
         "marker": {
          "colors": [
           "lightblue",
           "salmon"
          ]
         },
         "type": "pie",
         "values": {
          "bdata": "RAKkAQ==",
          "dtype": "i2"
         }
        }
       ],
       "layout": {
        "annotations": [
         {
          "font": {
           "size": 16
          },
          "showarrow": false,
          "text": "Hedef Değişken Dağılımı",
          "x": 0.225,
          "xanchor": "center",
          "xref": "paper",
          "y": 1,
          "yanchor": "bottom",
          "yref": "paper"
         },
         {
          "font": {
           "size": 16
          },
          "showarrow": false,
          "text": "Hedef Değişken Yüzdeleri",
          "x": 0.775,
          "xanchor": "center",
          "xref": "paper",
          "y": 1,
          "yanchor": "bottom",
          "yref": "paper"
         }
        ],
        "showlegend": false,
        "template": {
         "data": {
          "bar": [
           {
            "error_x": {
             "color": "#2a3f5f"
            },
            "error_y": {
             "color": "#2a3f5f"
            },
            "marker": {
             "line": {
              "color": "#E5ECF6",
              "width": 0.5
             },
             "pattern": {
              "fillmode": "overlay",
              "size": 10,
              "solidity": 0.2
             }
            },
            "type": "bar"
           }
          ],
          "barpolar": [
           {
            "marker": {
             "line": {
              "color": "#E5ECF6",
              "width": 0.5
             },
             "pattern": {
              "fillmode": "overlay",
              "size": 10,
              "solidity": 0.2
             }
            },
            "type": "barpolar"
           }
          ],
          "carpet": [
           {
            "aaxis": {
             "endlinecolor": "#2a3f5f",
             "gridcolor": "white",
             "linecolor": "white",
             "minorgridcolor": "white",
             "startlinecolor": "#2a3f5f"
            },
            "baxis": {
             "endlinecolor": "#2a3f5f",
             "gridcolor": "white",
             "linecolor": "white",
             "minorgridcolor": "white",
             "startlinecolor": "#2a3f5f"
            },
            "type": "carpet"
           }
          ],
          "choropleth": [
           {
            "colorbar": {
             "outlinewidth": 0,
             "ticks": ""
            },
            "type": "choropleth"
           }
          ],
          "contour": [
           {
            "colorbar": {
             "outlinewidth": 0,
             "ticks": ""
            },
            "colorscale": [
             [
              0,
              "#0d0887"
             ],
             [
              0.1111111111111111,
              "#46039f"
             ],
             [
              0.2222222222222222,
              "#7201a8"
             ],
             [
              0.3333333333333333,
              "#9c179e"
             ],
             [
              0.4444444444444444,
              "#bd3786"
             ],
             [
              0.5555555555555556,
              "#d8576b"
             ],
             [
              0.6666666666666666,
              "#ed7953"
             ],
             [
              0.7777777777777778,
              "#fb9f3a"
             ],
             [
              0.8888888888888888,
              "#fdca26"
             ],
             [
              1,
              "#f0f921"
             ]
            ],
            "type": "contour"
           }
          ],
          "contourcarpet": [
           {
            "colorbar": {
             "outlinewidth": 0,
             "ticks": ""
            },
            "type": "contourcarpet"
           }
          ],
          "heatmap": [
           {
            "colorbar": {
             "outlinewidth": 0,
             "ticks": ""
            },
            "colorscale": [
             [
              0,
              "#0d0887"
             ],
             [
              0.1111111111111111,
              "#46039f"
             ],
             [
              0.2222222222222222,
              "#7201a8"
             ],
             [
              0.3333333333333333,
              "#9c179e"
             ],
             [
              0.4444444444444444,
              "#bd3786"
             ],
             [
              0.5555555555555556,
              "#d8576b"
             ],
             [
              0.6666666666666666,
              "#ed7953"
             ],
             [
              0.7777777777777778,
              "#fb9f3a"
             ],
             [
              0.8888888888888888,
              "#fdca26"
             ],
             [
              1,
              "#f0f921"
             ]
            ],
            "type": "heatmap"
           }
          ],
          "histogram": [
           {
            "marker": {
             "pattern": {
              "fillmode": "overlay",
              "size": 10,
              "solidity": 0.2
             }
            },
            "type": "histogram"
           }
          ],
          "histogram2d": [
           {
            "colorbar": {
             "outlinewidth": 0,
             "ticks": ""
            },
            "colorscale": [
             [
              0,
              "#0d0887"
             ],
             [
              0.1111111111111111,
              "#46039f"
             ],
             [
              0.2222222222222222,
              "#7201a8"
             ],
             [
              0.3333333333333333,
              "#9c179e"
             ],
             [
              0.4444444444444444,
              "#bd3786"
             ],
             [
              0.5555555555555556,
              "#d8576b"
             ],
             [
              0.6666666666666666,
              "#ed7953"
             ],
             [
              0.7777777777777778,
              "#fb9f3a"
             ],
             [
              0.8888888888888888,
              "#fdca26"
             ],
             [
              1,
              "#f0f921"
             ]
            ],
            "type": "histogram2d"
           }
          ],
          "histogram2dcontour": [
           {
            "colorbar": {
             "outlinewidth": 0,
             "ticks": ""
            },
            "colorscale": [
             [
              0,
              "#0d0887"
             ],
             [
              0.1111111111111111,
              "#46039f"
             ],
             [
              0.2222222222222222,
              "#7201a8"
             ],
             [
              0.3333333333333333,
              "#9c179e"
             ],
             [
              0.4444444444444444,
              "#bd3786"
             ],
             [
              0.5555555555555556,
              "#d8576b"
             ],
             [
              0.6666666666666666,
              "#ed7953"
             ],
             [
              0.7777777777777778,
              "#fb9f3a"
             ],
             [
              0.8888888888888888,
              "#fdca26"
             ],
             [
              1,
              "#f0f921"
             ]
            ],
            "type": "histogram2dcontour"
           }
          ],
          "mesh3d": [
           {
            "colorbar": {
             "outlinewidth": 0,
             "ticks": ""
            },
            "type": "mesh3d"
           }
          ],
          "parcoords": [
           {
            "line": {
             "colorbar": {
              "outlinewidth": 0,
              "ticks": ""
             }
            },
            "type": "parcoords"
           }
          ],
          "pie": [
           {
            "automargin": true,
            "type": "pie"
           }
          ],
          "scatter": [
           {
            "fillpattern": {
             "fillmode": "overlay",
             "size": 10,
             "solidity": 0.2
            },
            "type": "scatter"
           }
          ],
          "scatter3d": [
           {
            "line": {
             "colorbar": {
              "outlinewidth": 0,
              "ticks": ""
             }
            },
            "marker": {
             "colorbar": {
              "outlinewidth": 0,
              "ticks": ""
             }
            },
            "type": "scatter3d"
           }
          ],
          "scattercarpet": [
           {
            "marker": {
             "colorbar": {
              "outlinewidth": 0,
              "ticks": ""
             }
            },
            "type": "scattercarpet"
           }
          ],
          "scattergeo": [
           {
            "marker": {
             "colorbar": {
              "outlinewidth": 0,
              "ticks": ""
             }
            },
            "type": "scattergeo"
           }
          ],
          "scattergl": [
           {
            "marker": {
             "colorbar": {
              "outlinewidth": 0,
              "ticks": ""
             }
            },
            "type": "scattergl"
           }
          ],
          "scattermap": [
           {
            "marker": {
             "colorbar": {
              "outlinewidth": 0,
              "ticks": ""
             }
            },
            "type": "scattermap"
           }
          ],
          "scattermapbox": [
           {
            "marker": {
             "colorbar": {
              "outlinewidth": 0,
              "ticks": ""
             }
            },
            "type": "scattermapbox"
           }
          ],
          "scatterpolar": [
           {
            "marker": {
             "colorbar": {
              "outlinewidth": 0,
              "ticks": ""
             }
            },
            "type": "scatterpolar"
           }
          ],
          "scatterpolargl": [
           {
            "marker": {
             "colorbar": {
              "outlinewidth": 0,
              "ticks": ""
             }
            },
            "type": "scatterpolargl"
           }
          ],
          "scatterternary": [
           {
            "marker": {
             "colorbar": {
              "outlinewidth": 0,
              "ticks": ""
             }
            },
            "type": "scatterternary"
           }
          ],
          "surface": [
           {
            "colorbar": {
             "outlinewidth": 0,
             "ticks": ""
            },
            "colorscale": [
             [
              0,
              "#0d0887"
             ],
             [
              0.1111111111111111,
              "#46039f"
             ],
             [
              0.2222222222222222,
              "#7201a8"
             ],
             [
              0.3333333333333333,
              "#9c179e"
             ],
             [
              0.4444444444444444,
              "#bd3786"
             ],
             [
              0.5555555555555556,
              "#d8576b"
             ],
             [
              0.6666666666666666,
              "#ed7953"
             ],
             [
              0.7777777777777778,
              "#fb9f3a"
             ],
             [
              0.8888888888888888,
              "#fdca26"
             ],
             [
              1,
              "#f0f921"
             ]
            ],
            "type": "surface"
           }
          ],
          "table": [
           {
            "cells": {
             "fill": {
              "color": "#EBF0F8"
             },
             "line": {
              "color": "white"
             }
            },
            "header": {
             "fill": {
              "color": "#C8D4E3"
             },
             "line": {
              "color": "white"
             }
            },
            "type": "table"
           }
          ]
         },
         "layout": {
          "annotationdefaults": {
           "arrowcolor": "#2a3f5f",
           "arrowhead": 0,
           "arrowwidth": 1
          },
          "autotypenumbers": "strict",
          "coloraxis": {
           "colorbar": {
            "outlinewidth": 0,
            "ticks": ""
           }
          },
          "colorscale": {
           "diverging": [
            [
             0,
             "#8e0152"
            ],
            [
             0.1,
             "#c51b7d"
            ],
            [
             0.2,
             "#de77ae"
            ],
            [
             0.3,
             "#f1b6da"
            ],
            [
             0.4,
             "#fde0ef"
            ],
            [
             0.5,
             "#f7f7f7"
            ],
            [
             0.6,
             "#e6f5d0"
            ],
            [
             0.7,
             "#b8e186"
            ],
            [
             0.8,
             "#7fbc41"
            ],
            [
             0.9,
             "#4d9221"
            ],
            [
             1,
             "#276419"
            ]
           ],
           "sequential": [
            [
             0,
             "#0d0887"
            ],
            [
             0.1111111111111111,
             "#46039f"
            ],
            [
             0.2222222222222222,
             "#7201a8"
            ],
            [
             0.3333333333333333,
             "#9c179e"
            ],
            [
             0.4444444444444444,
             "#bd3786"
            ],
            [
             0.5555555555555556,
             "#d8576b"
            ],
            [
             0.6666666666666666,
             "#ed7953"
            ],
            [
             0.7777777777777778,
             "#fb9f3a"
            ],
            [
             0.8888888888888888,
             "#fdca26"
            ],
            [
             1,
             "#f0f921"
            ]
           ],
           "sequentialminus": [
            [
             0,
             "#0d0887"
            ],
            [
             0.1111111111111111,
             "#46039f"
            ],
            [
             0.2222222222222222,
             "#7201a8"
            ],
            [
             0.3333333333333333,
             "#9c179e"
            ],
            [
             0.4444444444444444,
             "#bd3786"
            ],
            [
             0.5555555555555556,
             "#d8576b"
            ],
            [
             0.6666666666666666,
             "#ed7953"
            ],
            [
             0.7777777777777778,
             "#fb9f3a"
            ],
            [
             0.8888888888888888,
             "#fdca26"
            ],
            [
             1,
             "#f0f921"
            ]
           ]
          },
          "colorway": [
           "#636efa",
           "#EF553B",
           "#00cc96",
           "#ab63fa",
           "#FFA15A",
           "#19d3f3",
           "#FF6692",
           "#B6E880",
           "#FF97FF",
           "#FECB52"
          ],
          "font": {
           "color": "#2a3f5f"
          },
          "geo": {
           "bgcolor": "white",
           "lakecolor": "white",
           "landcolor": "#E5ECF6",
           "showlakes": true,
           "showland": true,
           "subunitcolor": "white"
          },
          "hoverlabel": {
           "align": "left"
          },
          "hovermode": "closest",
          "mapbox": {
           "style": "light"
          },
          "paper_bgcolor": "white",
          "plot_bgcolor": "#E5ECF6",
          "polar": {
           "angularaxis": {
            "gridcolor": "white",
            "linecolor": "white",
            "ticks": ""
           },
           "bgcolor": "#E5ECF6",
           "radialaxis": {
            "gridcolor": "white",
            "linecolor": "white",
            "ticks": ""
           }
          },
          "scene": {
           "xaxis": {
            "backgroundcolor": "#E5ECF6",
            "gridcolor": "white",
            "gridwidth": 2,
            "linecolor": "white",
            "showbackground": true,
            "ticks": "",
            "zerolinecolor": "white"
           },
           "yaxis": {
            "backgroundcolor": "#E5ECF6",
            "gridcolor": "white",
            "gridwidth": 2,
            "linecolor": "white",
            "showbackground": true,
            "ticks": "",
            "zerolinecolor": "white"
           },
           "zaxis": {
            "backgroundcolor": "#E5ECF6",
            "gridcolor": "white",
            "gridwidth": 2,
            "linecolor": "white",
            "showbackground": true,
            "ticks": "",
            "zerolinecolor": "white"
           }
          },
          "shapedefaults": {
           "line": {
            "color": "#2a3f5f"
           }
          },
          "ternary": {
           "aaxis": {
            "gridcolor": "white",
            "linecolor": "white",
            "ticks": ""
           },
           "baxis": {
            "gridcolor": "white",
            "linecolor": "white",
            "ticks": ""
           },
           "bgcolor": "#E5ECF6",
           "caxis": {
            "gridcolor": "white",
            "linecolor": "white",
            "ticks": ""
           }
          },
          "title": {
           "x": 0.05
          },
          "xaxis": {
           "automargin": true,
           "gridcolor": "white",
           "linecolor": "white",
           "ticks": "",
           "title": {
            "standoff": 15
           },
           "zerolinecolor": "white",
           "zerolinewidth": 2
          },
          "yaxis": {
           "automargin": true,
           "gridcolor": "white",
           "linecolor": "white",
           "ticks": "",
           "title": {
            "standoff": 15
           },
           "zerolinecolor": "white",
           "zerolinewidth": 2
          }
         }
        },
        "title": {
         "text": "🎯 Hedef Değişken Analizi"
        },
        "xaxis": {
         "anchor": "y",
         "domain": [
          0,
          0.45
         ]
        },
        "yaxis": {
         "anchor": "x",
         "domain": [
          0,
          1
         ]
        }
       }
      }
     },
     "metadata": {},
     "output_type": "display_data"
    },
    {
     "name": "stdout",
     "output_type": "stream",
     "text": [
      "📊 HEDEF DEĞİŞKEN İSTATİSTİKLERİ:\n",
      "========================================\n",
      "Sağlıklı: 580 kişi (%58.0)\n",
      "Cardiovascular Hastalık: 420 kişi (%42.0)\n",
      "\n",
      "⚖️ Veri seti dengesi: 0.72\n",
      "✅ Veri seti yeterince dengeli\n"
     ]
    }
   ],
   "source": [
    "# 📊 Keşifsel Veri Analizi (EDA)\n",
    "\n",
    "# Hedef değişken dağılımı\n",
    "fig = make_subplots(\n",
    "    rows=1, cols=2,\n",
    "    subplot_titles=('Hedef Değişken Dağılımı', 'Hedef Değişken Yüzdeleri'),\n",
    "    specs=[[{\"type\": \"bar\"}, {\"type\": \"pie\"}]]\n",
    ")\n",
    "\n",
    "target_counts = df['target'].value_counts()\n",
    "target_labels = ['Sağlıklı', 'Cardiovascular Hastalık']\n",
    "\n",
    "# Bar Chart\n",
    "fig.add_trace(\n",
    "    go.Bar(x=target_labels, y=target_counts.values, \n",
    "           marker_color=['lightblue', 'salmon'],\n",
    "           text=target_counts.values, textposition='auto'),\n",
    "    row=1, col=1\n",
    ")\n",
    "\n",
    "# Pie Chart\n",
    "fig.add_trace(\n",
    "    go.Pie(labels=target_labels, values=target_counts.values,\n",
    "           marker_colors=['lightblue', 'salmon']),\n",
    "    row=1, col=2\n",
    ")\n",
    "\n",
    "fig.update_layout(title_text=\"🎯 Hedef Değişken Analizi\", showlegend=False)\n",
    "fig.show()\n",
    "\n",
    "print(\"📊 HEDEF DEĞİŞKEN İSTATİSTİKLERİ:\")\n",
    "print(\"=\" * 40)\n",
    "for i, label in enumerate(target_labels):\n",
    "    count = target_counts.iloc[i]\n",
    "    percentage = (count / len(df)) * 100\n",
    "    print(f\"{label}: {count} kişi (%{percentage:.1f})\")\n",
    "    \n",
    "# Denge kontrolü\n",
    "balance_ratio = target_counts.min() / target_counts.max()\n",
    "print(f\"\\n⚖️ Veri seti dengesi: {balance_ratio:.2f}\")\n",
    "if balance_ratio < 0.6:\n",
    "    print(\"⚠️ Veri seti dengesiz - class imbalance teknikler gerekebilir\")\n",
    "else:\n",
    "    print(\"✅ Veri seti yeterince dengeli\")"
   ]
  },
  {
   "cell_type": "code",
   "execution_count": 7,
   "id": "a6eb3b31",
   "metadata": {},
   "outputs": [
    {
     "data": {
      "application/vnd.plotly.v1+json": {
       "config": {
        "plotlyServerURL": "https://plot.ly"
       },
       "data": [
        {
         "marker": {
          "color": "lightblue"
         },
         "name": "Yaş Dağılımı",
         "nbinsx": 20,
         "type": "histogram",
         "x": {
          "bdata": "NSgxKx8YTzQ+PTs6Gzs6ICpBOyMnSBg7KEcuKkgxFxROHSNLRxkgMBs1MEclQhYxGjNNKxwUNk8pSD8cSU1EIk0mT0k9N05NSSlFFTlEPzMpJSVJNz08FxYrSiwrJCIrPRpNKhUjUB8bSUYeMBchTB8YTEMtSR4jLjQVTEZMRUM8QkssSUFDICouFxkrQhxHHRs+JSQzICAULEhCPzwtQUJJFhQpSRwnOTwcOTogQBckUDtESU0/KyBPFCE7Qkg+HiU+F0c3ITVHJhRKKCIbMyQ3HhkoQh9HHEQ+FR4/HyUfPTdKFBQkN0UWFE5FPDEuOkNMGUdFRjQuKk4mMC8zM08rFjIrLC8aLDMpLDRKOCc9QDM2NDFOGUlBLicWIxc4KDRQJ0Q1Q0MnNi9GSUcuJiYqRDM+QkRLKSowTDIiTBknL0hPFBxLMxQ5NkkVRB8aIS06N0YWLDMdHS01GENARhsyKktGQiUVGC4ZP0Y7P0IXQUoYFEI0QkMsGzggKj4pPxYmJBYVFx46Hk47JCggNyM1Kx47TCFONEotQB81PzMtPyEtSDckSRohQDI0HxojTxotQEcbSD1GFUM5Kx0iNhQkTVAXQyY5PCVMHyxQLS4aOkwqOhwnKxkiTDcqNBRJIUpNOi0WNyhMMx8ZLRpPSEIXTC86Gj8iGTkjOUlKMCVMIkIuGR4rFUAsFkciIk4WFz4sQUVFOzkwNzQgH0c5FR0aOlAiGBQlMi82Ni46Pz4/Fh4mHx8iJBc+JiE3LEEXJBgZHUU2OztHNU1APSQqIENAPz0WNBQuGxhMFBgtFCc5MB0hIR0uLCtQMic6Ly1QGy0UFE8rJRpJJRQeMjhGIyA5ISA1Shk/Oyc2ODwpOzweKTcuQxg4Iy4hMh8iMjwWJEVQFENHTBohMj4tKDEeOSJHLzMvJDI+KBgrKyI7FyxHFiogPSYYQCJNTik7FBUlHUNLITcmMC0XGUk6Hz9MFBQdLkhINBpQTz1ATk5GQR06RB4lSj4zPRk7RTQyQRcbSUEbFys+RUY2KUxLShhINENGQEg+GDM9LSIxKD8WFjpILDguLyQ1OyhLGig+LC02PEsyGD4uSio0ShU4IEM1NC0xRDMqLyInSRpMIBpGS0QmTTE6PkU6TCsZSk8sTR1KNhw6T0c7LCsaJScuTSExN09NJiY5PScmOE5FMCEvIkoYJzcbSjpHMjgzHUYcSj5JLEVPMCVNQCwYHSBQFBYYGCdCLCUzRhsnTCYlFxsjLU4dOjIzTD9OJUtKOi4rPCc0FEAwSBhOJlBCOB8ZNhk4QDVBTTIuFBwcITohHko4PxhNGT4wL0UtGQ==",
          "dtype": "i1"
         },
         "xaxis": "x",
         "yaxis": "y"
        },
        {
         "marker": {
          "color": [
           "lightcoral",
           "lightgreen"
          ]
         },
         "text": {
          "bdata": "AAAAAADoh0AAAAAAAGBtQA==",
          "dtype": "f8"
         },
         "textposition": "auto",
         "type": "bar",
         "x": [
          "Erkek",
          "Kadın"
         ],
         "xaxis": "x2",
         "y": {
          "bdata": "/QLrAA==",
          "dtype": "i2"
         },
         "yaxis": "y2"
        },
        {
         "boxpoints": "outliers",
         "name": "Sağlıklı",
         "type": "box",
         "xaxis": "x3",
         "y": {
          "bdata": "KDE0Phs7OkEjGEcuFxQdSxkgMEIWMRozTRxEIjcpRCklJTcXSitNI1BJHkwYTENJNBVMRkxDSywgFxlCRzMsQi1CSRw8OSA7SSBPJT4XKCQeQkQ+FR4fH0oUJDdFFkU8GUdGNE4vMzMrFho4J0A2NDEjKCdENUNDJ0YmJjNEKTBMMkxLFEkVHyE3Rh1AGypCJRUZPz8XGBRCLCA+PxYVHh5OKCA3IzUeITUhLUg3JCE0LUAVQysUOTxMHywuOkwqHCc0FEpNLTcoTBktT0gXTDoaPxk5SUowTC4eFRZHThZBOTc0HzkVMi82Oh4mIhcmLCQYGR02R0NAFkwYFDkwISxQOhsUFCslFDgjIDkhIBk7JzZDGC4hHxZFUENMMj4eIkcvJCgrIjs9GEBNTjsUFUshMBcZOkwdLkhIGj1GHUQeSjM7FxtJQSspTEtKGEhDPj0iMRYWOiw4LyQoLDwYPi4qODUiTCAaRks6K0osTR1KNk9HKxpNTThFLxhKOkcyODNKRU8wJUAUFhgsTCZOOjJMTiVLJ044GUBBTRQhSjgYPi8Z",
          "dtype": "i1"
         },
         "yaxis": "y3"
        },
        {
         "boxpoints": "outliers",
         "name": "Hastalık",
         "type": "box",
         "xaxis": "x3",
         "y": {
          "bdata": "NSsfGE89OzogKjsnSDsoKkgxTiNHGzUwRyUrHBQ2TylIP0lNTSZPST1OTUlFFTk/M0k9PBYrLCQiKz0aKhUfG0YwFyEfLR4jLkU8QklBQyouKxwdGz4lJCAgFEg/PEFJFhQpJzkcOkAXJFBETT8rFCE7Qkg+Hkc3ITVHJhRKIhszNxkoH0ccPyU9NxQUTjEuOkNMRS4qJjBPMissLywzKSw0Sj0zThlJQS4nFhc4NFA2L0lHLipEPkJLKiIZJy9ITxQcMzk2RBotOhYsMx0tNRhDRjJLRhguRjtCQUo0QkMbOCopJiQWFzo7JCs7TE40Si1AHz8zLT9JGkAyHxojTxpHG0g9RjkdIjYkTVAXQyYlUC0aOisZIkw3KkkhOhYzHxpCLyIjOSUiQhkrQCwiIhc+LEVFOzAgRx0aOlAiGBQlNi4/Pj8WHx8kPiE3QRdFOzs1TUA9JCogPz00FC4bGBQtJx0hHS4rMicvLVAtTxpJJR4yRjVKPzg8KTs8Hik3LjgjMiIyPCQURxohLSgxOS8zMj4YKxcsRxYqICYiKSUdQzcmLUkfPxQUNFBPQE5OQTolPj0ZRTQyQRsXPkVGNjRGQEgYMy0oP0guNTsoSxo+LTZLMko0ShUgQzQtMUQzKi8nSRpEJk0xPkU6TBlPHDo7LCUnLiExN08mJjk9JyZOMCEiSic3Gx1GHD5JLE0sGB0gUBgnQiUzRhsnJRcbIy0dMz9KOi4rPDQUQDBIGCZQQh82GTg1Mi4cHDohHj9NGTBFLQ==",
          "dtype": "i1"
         },
         "yaxis": "y3"
        },
        {
         "marker": {
          "color": "lightcoral"
         },
         "name": "Kadın",
         "type": "bar",
         "x": [
          "Sağlıklı",
          "Hastalık"
         ],
         "xaxis": "x4",
         "y": {
          "bdata": "ZgCFAA==",
          "dtype": "i2"
         },
         "yaxis": "y4"
        },
        {
         "marker": {
          "color": "lightgreen"
         },
         "name": "Erkek",
         "type": "bar",
         "x": [
          "Sağlıklı",
          "Hastalık"
         ],
         "xaxis": "x4",
         "y": {
          "bdata": "PgG/AQ==",
          "dtype": "i2"
         },
         "yaxis": "y4"
        }
       ],
       "layout": {
        "annotations": [
         {
          "font": {
           "size": 16
          },
          "showarrow": false,
          "text": "Yaş Dağılımı",
          "x": 0.225,
          "xanchor": "center",
          "xref": "paper",
          "y": 1,
          "yanchor": "bottom",
          "yref": "paper"
         },
         {
          "font": {
           "size": 16
          },
          "showarrow": false,
          "text": "Cinsiyet Dağılımı",
          "x": 0.775,
          "xanchor": "center",
          "xref": "paper",
          "y": 1,
          "yanchor": "bottom",
          "yref": "paper"
         },
         {
          "font": {
           "size": 16
          },
          "showarrow": false,
          "text": "Yaş-Hedef İlişkisi",
          "x": 0.225,
          "xanchor": "center",
          "xref": "paper",
          "y": 0.375,
          "yanchor": "bottom",
          "yref": "paper"
         },
         {
          "font": {
           "size": 16
          },
          "showarrow": false,
          "text": "Cinsiyet-Hedef İlişkisi",
          "x": 0.775,
          "xanchor": "center",
          "xref": "paper",
          "y": 0.375,
          "yanchor": "bottom",
          "yref": "paper"
         }
        ],
        "height": 800,
        "template": {
         "data": {
          "bar": [
           {
            "error_x": {
             "color": "#2a3f5f"
            },
            "error_y": {
             "color": "#2a3f5f"
            },
            "marker": {
             "line": {
              "color": "#E5ECF6",
              "width": 0.5
             },
             "pattern": {
              "fillmode": "overlay",
              "size": 10,
              "solidity": 0.2
             }
            },
            "type": "bar"
           }
          ],
          "barpolar": [
           {
            "marker": {
             "line": {
              "color": "#E5ECF6",
              "width": 0.5
             },
             "pattern": {
              "fillmode": "overlay",
              "size": 10,
              "solidity": 0.2
             }
            },
            "type": "barpolar"
           }
          ],
          "carpet": [
           {
            "aaxis": {
             "endlinecolor": "#2a3f5f",
             "gridcolor": "white",
             "linecolor": "white",
             "minorgridcolor": "white",
             "startlinecolor": "#2a3f5f"
            },
            "baxis": {
             "endlinecolor": "#2a3f5f",
             "gridcolor": "white",
             "linecolor": "white",
             "minorgridcolor": "white",
             "startlinecolor": "#2a3f5f"
            },
            "type": "carpet"
           }
          ],
          "choropleth": [
           {
            "colorbar": {
             "outlinewidth": 0,
             "ticks": ""
            },
            "type": "choropleth"
           }
          ],
          "contour": [
           {
            "colorbar": {
             "outlinewidth": 0,
             "ticks": ""
            },
            "colorscale": [
             [
              0,
              "#0d0887"
             ],
             [
              0.1111111111111111,
              "#46039f"
             ],
             [
              0.2222222222222222,
              "#7201a8"
             ],
             [
              0.3333333333333333,
              "#9c179e"
             ],
             [
              0.4444444444444444,
              "#bd3786"
             ],
             [
              0.5555555555555556,
              "#d8576b"
             ],
             [
              0.6666666666666666,
              "#ed7953"
             ],
             [
              0.7777777777777778,
              "#fb9f3a"
             ],
             [
              0.8888888888888888,
              "#fdca26"
             ],
             [
              1,
              "#f0f921"
             ]
            ],
            "type": "contour"
           }
          ],
          "contourcarpet": [
           {
            "colorbar": {
             "outlinewidth": 0,
             "ticks": ""
            },
            "type": "contourcarpet"
           }
          ],
          "heatmap": [
           {
            "colorbar": {
             "outlinewidth": 0,
             "ticks": ""
            },
            "colorscale": [
             [
              0,
              "#0d0887"
             ],
             [
              0.1111111111111111,
              "#46039f"
             ],
             [
              0.2222222222222222,
              "#7201a8"
             ],
             [
              0.3333333333333333,
              "#9c179e"
             ],
             [
              0.4444444444444444,
              "#bd3786"
             ],
             [
              0.5555555555555556,
              "#d8576b"
             ],
             [
              0.6666666666666666,
              "#ed7953"
             ],
             [
              0.7777777777777778,
              "#fb9f3a"
             ],
             [
              0.8888888888888888,
              "#fdca26"
             ],
             [
              1,
              "#f0f921"
             ]
            ],
            "type": "heatmap"
           }
          ],
          "histogram": [
           {
            "marker": {
             "pattern": {
              "fillmode": "overlay",
              "size": 10,
              "solidity": 0.2
             }
            },
            "type": "histogram"
           }
          ],
          "histogram2d": [
           {
            "colorbar": {
             "outlinewidth": 0,
             "ticks": ""
            },
            "colorscale": [
             [
              0,
              "#0d0887"
             ],
             [
              0.1111111111111111,
              "#46039f"
             ],
             [
              0.2222222222222222,
              "#7201a8"
             ],
             [
              0.3333333333333333,
              "#9c179e"
             ],
             [
              0.4444444444444444,
              "#bd3786"
             ],
             [
              0.5555555555555556,
              "#d8576b"
             ],
             [
              0.6666666666666666,
              "#ed7953"
             ],
             [
              0.7777777777777778,
              "#fb9f3a"
             ],
             [
              0.8888888888888888,
              "#fdca26"
             ],
             [
              1,
              "#f0f921"
             ]
            ],
            "type": "histogram2d"
           }
          ],
          "histogram2dcontour": [
           {
            "colorbar": {
             "outlinewidth": 0,
             "ticks": ""
            },
            "colorscale": [
             [
              0,
              "#0d0887"
             ],
             [
              0.1111111111111111,
              "#46039f"
             ],
             [
              0.2222222222222222,
              "#7201a8"
             ],
             [
              0.3333333333333333,
              "#9c179e"
             ],
             [
              0.4444444444444444,
              "#bd3786"
             ],
             [
              0.5555555555555556,
              "#d8576b"
             ],
             [
              0.6666666666666666,
              "#ed7953"
             ],
             [
              0.7777777777777778,
              "#fb9f3a"
             ],
             [
              0.8888888888888888,
              "#fdca26"
             ],
             [
              1,
              "#f0f921"
             ]
            ],
            "type": "histogram2dcontour"
           }
          ],
          "mesh3d": [
           {
            "colorbar": {
             "outlinewidth": 0,
             "ticks": ""
            },
            "type": "mesh3d"
           }
          ],
          "parcoords": [
           {
            "line": {
             "colorbar": {
              "outlinewidth": 0,
              "ticks": ""
             }
            },
            "type": "parcoords"
           }
          ],
          "pie": [
           {
            "automargin": true,
            "type": "pie"
           }
          ],
          "scatter": [
           {
            "fillpattern": {
             "fillmode": "overlay",
             "size": 10,
             "solidity": 0.2
            },
            "type": "scatter"
           }
          ],
          "scatter3d": [
           {
            "line": {
             "colorbar": {
              "outlinewidth": 0,
              "ticks": ""
             }
            },
            "marker": {
             "colorbar": {
              "outlinewidth": 0,
              "ticks": ""
             }
            },
            "type": "scatter3d"
           }
          ],
          "scattercarpet": [
           {
            "marker": {
             "colorbar": {
              "outlinewidth": 0,
              "ticks": ""
             }
            },
            "type": "scattercarpet"
           }
          ],
          "scattergeo": [
           {
            "marker": {
             "colorbar": {
              "outlinewidth": 0,
              "ticks": ""
             }
            },
            "type": "scattergeo"
           }
          ],
          "scattergl": [
           {
            "marker": {
             "colorbar": {
              "outlinewidth": 0,
              "ticks": ""
             }
            },
            "type": "scattergl"
           }
          ],
          "scattermap": [
           {
            "marker": {
             "colorbar": {
              "outlinewidth": 0,
              "ticks": ""
             }
            },
            "type": "scattermap"
           }
          ],
          "scattermapbox": [
           {
            "marker": {
             "colorbar": {
              "outlinewidth": 0,
              "ticks": ""
             }
            },
            "type": "scattermapbox"
           }
          ],
          "scatterpolar": [
           {
            "marker": {
             "colorbar": {
              "outlinewidth": 0,
              "ticks": ""
             }
            },
            "type": "scatterpolar"
           }
          ],
          "scatterpolargl": [
           {
            "marker": {
             "colorbar": {
              "outlinewidth": 0,
              "ticks": ""
             }
            },
            "type": "scatterpolargl"
           }
          ],
          "scatterternary": [
           {
            "marker": {
             "colorbar": {
              "outlinewidth": 0,
              "ticks": ""
             }
            },
            "type": "scatterternary"
           }
          ],
          "surface": [
           {
            "colorbar": {
             "outlinewidth": 0,
             "ticks": ""
            },
            "colorscale": [
             [
              0,
              "#0d0887"
             ],
             [
              0.1111111111111111,
              "#46039f"
             ],
             [
              0.2222222222222222,
              "#7201a8"
             ],
             [
              0.3333333333333333,
              "#9c179e"
             ],
             [
              0.4444444444444444,
              "#bd3786"
             ],
             [
              0.5555555555555556,
              "#d8576b"
             ],
             [
              0.6666666666666666,
              "#ed7953"
             ],
             [
              0.7777777777777778,
              "#fb9f3a"
             ],
             [
              0.8888888888888888,
              "#fdca26"
             ],
             [
              1,
              "#f0f921"
             ]
            ],
            "type": "surface"
           }
          ],
          "table": [
           {
            "cells": {
             "fill": {
              "color": "#EBF0F8"
             },
             "line": {
              "color": "white"
             }
            },
            "header": {
             "fill": {
              "color": "#C8D4E3"
             },
             "line": {
              "color": "white"
             }
            },
            "type": "table"
           }
          ]
         },
         "layout": {
          "annotationdefaults": {
           "arrowcolor": "#2a3f5f",
           "arrowhead": 0,
           "arrowwidth": 1
          },
          "autotypenumbers": "strict",
          "coloraxis": {
           "colorbar": {
            "outlinewidth": 0,
            "ticks": ""
           }
          },
          "colorscale": {
           "diverging": [
            [
             0,
             "#8e0152"
            ],
            [
             0.1,
             "#c51b7d"
            ],
            [
             0.2,
             "#de77ae"
            ],
            [
             0.3,
             "#f1b6da"
            ],
            [
             0.4,
             "#fde0ef"
            ],
            [
             0.5,
             "#f7f7f7"
            ],
            [
             0.6,
             "#e6f5d0"
            ],
            [
             0.7,
             "#b8e186"
            ],
            [
             0.8,
             "#7fbc41"
            ],
            [
             0.9,
             "#4d9221"
            ],
            [
             1,
             "#276419"
            ]
           ],
           "sequential": [
            [
             0,
             "#0d0887"
            ],
            [
             0.1111111111111111,
             "#46039f"
            ],
            [
             0.2222222222222222,
             "#7201a8"
            ],
            [
             0.3333333333333333,
             "#9c179e"
            ],
            [
             0.4444444444444444,
             "#bd3786"
            ],
            [
             0.5555555555555556,
             "#d8576b"
            ],
            [
             0.6666666666666666,
             "#ed7953"
            ],
            [
             0.7777777777777778,
             "#fb9f3a"
            ],
            [
             0.8888888888888888,
             "#fdca26"
            ],
            [
             1,
             "#f0f921"
            ]
           ],
           "sequentialminus": [
            [
             0,
             "#0d0887"
            ],
            [
             0.1111111111111111,
             "#46039f"
            ],
            [
             0.2222222222222222,
             "#7201a8"
            ],
            [
             0.3333333333333333,
             "#9c179e"
            ],
            [
             0.4444444444444444,
             "#bd3786"
            ],
            [
             0.5555555555555556,
             "#d8576b"
            ],
            [
             0.6666666666666666,
             "#ed7953"
            ],
            [
             0.7777777777777778,
             "#fb9f3a"
            ],
            [
             0.8888888888888888,
             "#fdca26"
            ],
            [
             1,
             "#f0f921"
            ]
           ]
          },
          "colorway": [
           "#636efa",
           "#EF553B",
           "#00cc96",
           "#ab63fa",
           "#FFA15A",
           "#19d3f3",
           "#FF6692",
           "#B6E880",
           "#FF97FF",
           "#FECB52"
          ],
          "font": {
           "color": "#2a3f5f"
          },
          "geo": {
           "bgcolor": "white",
           "lakecolor": "white",
           "landcolor": "#E5ECF6",
           "showlakes": true,
           "showland": true,
           "subunitcolor": "white"
          },
          "hoverlabel": {
           "align": "left"
          },
          "hovermode": "closest",
          "mapbox": {
           "style": "light"
          },
          "paper_bgcolor": "white",
          "plot_bgcolor": "#E5ECF6",
          "polar": {
           "angularaxis": {
            "gridcolor": "white",
            "linecolor": "white",
            "ticks": ""
           },
           "bgcolor": "#E5ECF6",
           "radialaxis": {
            "gridcolor": "white",
            "linecolor": "white",
            "ticks": ""
           }
          },
          "scene": {
           "xaxis": {
            "backgroundcolor": "#E5ECF6",
            "gridcolor": "white",
            "gridwidth": 2,
            "linecolor": "white",
            "showbackground": true,
            "ticks": "",
            "zerolinecolor": "white"
           },
           "yaxis": {
            "backgroundcolor": "#E5ECF6",
            "gridcolor": "white",
            "gridwidth": 2,
            "linecolor": "white",
            "showbackground": true,
            "ticks": "",
            "zerolinecolor": "white"
           },
           "zaxis": {
            "backgroundcolor": "#E5ECF6",
            "gridcolor": "white",
            "gridwidth": 2,
            "linecolor": "white",
            "showbackground": true,
            "ticks": "",
            "zerolinecolor": "white"
           }
          },
          "shapedefaults": {
           "line": {
            "color": "#2a3f5f"
           }
          },
          "ternary": {
           "aaxis": {
            "gridcolor": "white",
            "linecolor": "white",
            "ticks": ""
           },
           "baxis": {
            "gridcolor": "white",
            "linecolor": "white",
            "ticks": ""
           },
           "bgcolor": "#E5ECF6",
           "caxis": {
            "gridcolor": "white",
            "linecolor": "white",
            "ticks": ""
           }
          },
          "title": {
           "x": 0.05
          },
          "xaxis": {
           "automargin": true,
           "gridcolor": "white",
           "linecolor": "white",
           "ticks": "",
           "title": {
            "standoff": 15
           },
           "zerolinecolor": "white",
           "zerolinewidth": 2
          },
          "yaxis": {
           "automargin": true,
           "gridcolor": "white",
           "linecolor": "white",
           "ticks": "",
           "title": {
            "standoff": 15
           },
           "zerolinecolor": "white",
           "zerolinewidth": 2
          }
         }
        },
        "title": {
         "text": "👥 Demografik Analiz Dashboard"
        },
        "xaxis": {
         "anchor": "y",
         "domain": [
          0,
          0.45
         ]
        },
        "xaxis2": {
         "anchor": "y2",
         "domain": [
          0.55,
          1
         ]
        },
        "xaxis3": {
         "anchor": "y3",
         "domain": [
          0,
          0.45
         ]
        },
        "xaxis4": {
         "anchor": "y4",
         "domain": [
          0.55,
          1
         ]
        },
        "yaxis": {
         "anchor": "x",
         "domain": [
          0.625,
          1
         ]
        },
        "yaxis2": {
         "anchor": "x2",
         "domain": [
          0.625,
          1
         ]
        },
        "yaxis3": {
         "anchor": "x3",
         "domain": [
          0,
          0.375
         ]
        },
        "yaxis4": {
         "anchor": "x4",
         "domain": [
          0,
          0.375
         ]
        }
       }
      }
     },
     "metadata": {},
     "output_type": "display_data"
    },
    {
     "name": "stdout",
     "output_type": "stream",
     "text": [
      "📊 DEMOGRAFİK İSTATİSTİKLER:\n",
      "==================================================\n",
      "📈 Ortalama yaş: 49.2 ± 17.9\n",
      "👴 En yaşlı hasta: 80 yaş\n",
      "👶 En genç hasta: 20 yaş\n",
      "👨 Erkek hasta oranı: %76.5\n",
      "👩 Kadın hasta oranı: %23.5\n"
     ]
    }
   ],
   "source": [
    "# 👥 Demografik Analiz\n",
    "\n",
    "# Yaş ve cinsiyet dağılımı\n",
    "fig = make_subplots(\n",
    "    rows=2, cols=2,\n",
    "    subplot_titles=('Yaş Dağılımı', 'Cinsiyet Dağılımı', \n",
    "                   'Yaş-Hedef İlişkisi', 'Cinsiyet-Hedef İlişkisi'),\n",
    "    specs=[[{\"type\": \"histogram\"}, {\"type\": \"bar\"}],\n",
    "           [{\"type\": \"box\"}, {\"type\": \"bar\"}]]\n",
    ")\n",
    "\n",
    "# Yaş dağılımı\n",
    "fig.add_trace(\n",
    "    go.Histogram(x=df['age'], nbinsx=20, marker_color='lightblue',\n",
    "                name='Yaş Dağılımı'),\n",
    "    row=1, col=1\n",
    ")\n",
    "\n",
    "# Cinsiyet dağılımı\n",
    "gender_counts = df['gender'].value_counts()\n",
    "gender_labels = ['Erkek', 'Kadın']\n",
    "fig.add_trace(\n",
    "    go.Bar(x=gender_labels, y=gender_counts.values,\n",
    "           marker_color=['lightcoral', 'lightgreen'],\n",
    "           text=gender_counts.values, textposition='auto'),\n",
    "    row=1, col=2\n",
    ")\n",
    "\n",
    "# Yaş-Hedef kutu grafiği\n",
    "for target_val in [0, 1]:\n",
    "    target_label = 'Sağlıklı' if target_val == 0 else 'Hastalık'\n",
    "    fig.add_trace(\n",
    "        go.Box(y=df[df['target'] == target_val]['age'],\n",
    "               name=target_label, boxpoints='outliers'),\n",
    "        row=2, col=1\n",
    "    )\n",
    "\n",
    "# Cinsiyet-Hedef çapraz tablo\n",
    "crosstab = pd.crosstab(df['gender'], df['target'])\n",
    "for i, gender in enumerate(['Kadın', 'Erkek']):\n",
    "    fig.add_trace(\n",
    "        go.Bar(x=['Sağlıklı', 'Hastalık'], \n",
    "               y=crosstab.iloc[i].values,\n",
    "               name=f'{gender}',\n",
    "               marker_color=['lightcoral', 'lightgreen'][i]),\n",
    "        row=2, col=2\n",
    "    )\n",
    "\n",
    "fig.update_layout(height=800, title_text=\"👥 Demografik Analiz Dashboard\")\n",
    "fig.show()\n",
    "\n",
    "# İstatistiksel özet\n",
    "print(\"📊 DEMOGRAFİK İSTATİSTİKLER:\")\n",
    "print(\"=\" * 50)\n",
    "print(f\"📈 Ortalama yaş: {df['age'].mean():.1f} ± {df['age'].std():.1f}\")\n",
    "print(f\"👴 En yaşlı hasta: {df['age'].max()} yaş\")\n",
    "print(f\"👶 En genç hasta: {df['age'].min()} yaş\")\n",
    "print(f\"👨 Erkek hasta oranı: %{(df['gender'].sum() / len(df) * 100):.1f}\")\n",
    "print(f\"👩 Kadın hasta oranı: %{((1-df['gender']).sum() / len(df) * 100):.1f}\")"
   ]
  },
  {
   "cell_type": "code",
   "execution_count": 8,
   "id": "53ceb69c",
   "metadata": {},
   "outputs": [
    {
     "data": {
      "application/vnd.plotly.v1+json": {
       "config": {
        "plotlyServerURL": "https://plot.ly"
       },
       "data": [
        {
         "marker": {
          "color": "lightblue"
         },
         "name": "resting_blood_pressure",
         "nbinsx": 20,
         "type": "histogram",
         "x": {
          "bdata": "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",
          "dtype": "i2"
         },
         "xaxis": "x",
         "yaxis": "y"
        },
        {
         "boxpoints": "outliers",
         "marker": {
          "color": "lightblue"
         },
         "name": "Sağlıklı",
         "type": "box",
         "xaxis": "x4",
         "y": {
          "bdata": "XgCFAH8AeQCBAGIAqgDIAH8AiABlAMYAYQDHAJkAfgDIAGMAhACHAH4AwQB8AH8AfQCOAIwAiQBvAI0AiQB+AJEAbwBjAI8AjwC6AG8AaACCAGQAmQB9AHsAhwCeAHsAZAB+AJsAggBhAH8AxgBkAH4AiACeAMYAegCFAIQAbACPAI8AeQCMAMMAfQCHAIkAegCEAMEAaQB9AIwAiwCHAMMAigCDAIEAfgCsAMYAaQCBAIQAiwCOAIUAiwB+AIMAaQCGAMQAbwBgAH8AhwDGAIIAZABoAIsAfQBmAH8AjwBuAIwAeQB6AJsAwwB+AIoAkwBeAHgAmQB+AH0AiQB/AJUAjgB6AIEAjwB/AIsAfwDDAI4AeQDFAGQAbACZAIoAxQBgAIwAZAB+AJMAjQDFAIcAfAB6AIIAxgB9AGYAfgBpAGkAfQCLAIcAeQB9AG8AfwBlAIMAqQBsAMEAhACEAJEAZADGAMMAbwCCAJYAfABkAMEAZQCTAIAAhQCMAHgAiwCFAI8AyACOAG4AwwB/AIkAjgCPAHkAbwCIAI8AjgCHAIkAmQCOAI8AqQC6AHkAjwDHAH0AZQB5AH4AggCMAIoAggC1AMAAgQBmALcAeQCbAG4AbACAAIsAfwC+AL0AiABoAI0AZQCKAJ4AbACsAGEAxAC6AIAAhACFAH4AYQCBAJsAeACVAIsAiQCRAIAAjwB+AGQAbACIAH4AYgCGAIwAbgCCAKUAiQB/AIIAfwB/AH8AwgCAAIIAaQBgAMcAjwCHAGkAfABpAJAAfgCBAJoAkQB/AH8AhQCFAJsAjgB6AGAAbgCBAIUAiwCCAJgAwgBhAJwAYwB/AHwAfABeAGkAxgCPAG8AYgCHAGAAfwBvAHsAhwCCAIIAfABjAIEAegCJAH0AZgDIAH8AhABgAIUAewBpAIIAhgBkAHwAaQB7AHwAeQCIAJsAZQB/AIIAhACOAGkAgABlAMgApwCMAGwAigCPAIQAmwDBAHoAxgB8AI4AXgBuAI0AgQB8AIoAyADGAH0AeACFAL4AeACAAIEAeQCCAIsAZgCCAI8AZgCBAHkAZQB5AHoAjwBhAG4AfgBeAH0AxACIAHwAiACOAKoAfQCPAJ4A",
          "dtype": "i2"
         },
         "yaxis": "y4"
        },
        {
         "boxpoints": "outliers",
         "marker": {
          "color": "lightblue"
         },
         "name": "Hastalık",
         "type": "box",
         "xaxis": "x4",
         "y": {
          "bdata": "qwCKAMcArQCCAL4AvgDAALwAiQC2AMQAsQCcAL8AnQB+AMAAugCkAL0AnwB7ALoAiADGALIAiwC9AKoAugCAAJAAoQC3AMQAiACXAMgAjwCEAKwAwwCWAJkAvwC9AIMAqgB+AMcAkwCPAL0AqQCbAKwAvgCXAGEAwwC0AL4AuACbAIcAtAC/AIoAoABfAKcAqgCaAMUAgwCfAIkAkwCvALEAmACvAL8AmwCfAHwAaAChAKMAowCuAJIAmACwAJ4AhAC9AMIAugC+AIkAyACdALgAqgB+AIUAuwCtALkAnACYAMMAsgC0AMYAwQCgAK4AlgCnAK4AeQC6ALcAXgCgALsAvQCbAL4ApgC+ALgAtQCqALgAmgC3AIwAaACNAIkAhwCZAKYAhgCoAIoAxAB7AK0AqADIALYAmwDFAKkAxgDDALAAkwCiAL8ApgCqAKIAnwCwAIIAwwC3AIUAlADFAH4AgQDHALsAsgC7AKQAmQDGAMYAfwCyAKkAnAClAMIAtACIALQAswC0AKkAhAC+AKMAvwCkAMUAvwCrAKkAYACCAHgAwACyAKsAggCOALEAwADBAIwAlwB/AIAAnwC+AMgApwCxALQAgQCiAKUAfwCGAKIAlQCWAMQAeADDAIQAfAC2AGEAwgCLAMEAvAC6AJgAxwC+AKMAlQCDAMAArwC5AIAAlQC5AIwAxACdAJ4AgwCCAKoAqQCGAMUAsQDCAIIAxQDDAH0AmQCtAMQApwCdAJ0AkQC3AH4AYgB9AIUApAC0AI4AlgCEAF4AlQCHAJ4AYwCuAMYAvgCTAMMAngDDALQAgQCGAMYAaACDAKEAugCQAMYAhwC/AMYAtQDGAMAAvwCuAJAAlgCNAK4AugCfALIAsACbALsAiQCWAKoAmgCaAIcAgwCRAK4AjwCEAJEAoQDHAIEAqACFALYAnADBALEAnQCHALgAwQC+ALsAkwC9AJQAxwBiAHsAvAC5AIgArgB9AI4ApgB9AK8AjAC5AMQAjACMAGgAlQBfAKcApQCjAKcAfACOAH0AtwC+AIcAtwC2AHsAmwCaAK0AtACoAJ0AvgC7AIgAwgC0ALoAjwC6ALkAlgCbAJIAxwCzAKkAvwCGALYAYQC9AIsAwQC/AIwAkQCxAL8AnAC5AJsAtAC/AIUApgCgALsAaACVAMgAfwBeAL8AxQC/ALcAlQCjAKoAxACCAKoAowC7AMMAwwB+AMUAwwDHAMcAxgDBAL0AfQCjAMEAvgB7AHsAYgBoAIgAqgC3AJkAewDEAJoAmADDAK0ApACkAKoAsAC6ALYAnQDEAIwAigCOALkAuAC+AJcAigCOAH0AggDEAL4AwACFAMMAxACfAMMAngCHAL8AtQCcAK8AvwCyAKUAqAC7ALgAtQCUAIsAuADFAL0AxAC5AMgAqwCkAIYAjACzALAAowCVAF8AnACbALcAvgChAI4AhQDFALcAfQCiAIcAuAChAKoAvAC4AIsAtwChAMcAxQCPALAAkQDCALgAoACTAJ4AwQCWAHgAqQDEALcAxQCLAJwAugA=",
          "dtype": "i2"
         },
         "yaxis": "y4"
        },
        {
         "marker": {
          "color": "lightcoral"
         },
         "name": "serum_cholesterol",
         "nbinsx": 20,
         "type": "histogram",
         "x": {
          "bdata": "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",
          "dtype": "i2"
         },
         "xaxis": "x2",
         "yaxis": "y2"
        },
        {
         "boxpoints": "outliers",
         "marker": {
          "color": "lightcoral"
         },
         "name": "Sağlıklı",
         "type": "box",
         "xaxis": "x5",
         "y": {
          "bdata": "5QCOAFkBZQGHANEAYgH3AA0BpABgAf0ArwD4AGUBZQH3APgA8QD8ACgBKAH5AEUBhwCKAPQAxwBlAZoBWQGxAQEBWQGEAN0AKwHsAIUA1QBWAWIBDAGSAAEB0AFFASgBUAEMAbEBYQENAYsAiQCEADIBZQFQAfgAPgFlAUoBFgGOANEAPgGmAOEAYgH4AHoB1AAZAawBhAAIAVEBpQBWAQwBiQDRAUUBiwDMAGIBjgABAVkBjQFFAc0BjAEuAaQATQHeAFYBhQAVAYcApQA+AWABUAEhAd0ADQECAYsAZQEEAWIBigCHAKkATwGVAaUAjgACAVYBrAGLAJsB7gCSAI4A+gCGAKgAiwBXAdUA+ABZAWUBPAE8AUsBWwEHAVkBxwBiAVkBVwFkAQwBsQFVAbAB+AA/AfgAUAEMAQEBsAFgAQsBWQE8AWMBUAHWAOsARQFiAZgBtAGFAI4AMwFcAWIBDQGJABABCgE0AZIATQGEAEcBDgEkAVABZAGLADwBmQGkAEUB+ADRAf4A9wD5APgAjQFiAYYAhgCaAcsAAQHJAGIBtAGlAIkAsAHCAAEBCAE5ARkBDAFIAVABDAHcAIkAPgEoAZoBKAEMAQwBPAFgAUIBhQAoAQIBHgHhAGQBYAFuAbIADAEMARkBywDNAYQAOQHNAeoAZAGIAPcAYgGUAc0BAgHvAOcAIwHPAIcAsAFiAYQAYgHXADwB1QCQAVkBAQH3AOoA9wBVAUkBiwATAecACQGTAWUBhQABAVoBPAFQAekADgEcAS8BDAGpAKgAVgFQAfgAiQGxAcIAiwBFAQwBUwEoAWIBdwFOAYoAsAFZAZsBQgEFAREBhwANAY4AiQBkAfcAZQG7APgAAgH4AF0BRQEXAYgAXgEwAeYADAEMAfgA+AAIAUoBiAACAQwBNwGKACABzQH4AAwBLgH4AFYB/ADWAGABYAEAAbQADAGpAEUB5ABZAdEBFwGwAQwBiwDbAJoBmgEwAfsARQHNAYkAsQEMAbQB0QFdAYkA+AC0AegA5wCJAJoB0wA5AVABVgFiAQkB8ACbAQIBZQH/APEAYAGOAOcAkgA/AWIBjgCsAVoBYgEDAbYAFwHmAGIBVgECAQ4B",
          "dtype": "i2"
         },
         "yaxis": "y5"
        },
        {
         "boxpoints": "outliers",
         "marker": {
          "color": "lightcoral"
         },
         "name": "Hastalık",
         "type": "box",
         "xaxis": "x5",
         "y": {
          "bdata": "AAAnAQAAAADwALUAEQKZAQAAXgGxAP0AjQHfAF0BAADeAQkClAFWAOcAIgJGAX0BoQHYAYUBGALnAPgA0wDHAEIB0ACvAesBZwHBAAgBXwEAADUBAACwAEgB+AExAlcAsQD8ATwBiAHhAQUBAABQAScCAAAxAfYBhgHTAfkAcAHLAB4B3gBrAVYA2wEAAOYAoAH4AO8ByQHUAAUCKgIfARkCAAAoAvMB3gENATYBkwEAAO8AAAD2AbUARwGBAU0BnQEhAoYBHAK9ASgC7wCzAKIB8gGrATMBjgGcARYCYgF0ASwBugEjAu8AWgL1AfcBFwF1Af0ADwFnAdIB/gABAp8BxABXANwBiQG3AUEBVgB6AZcBIQIAAPIBAAC0AYUBkgHcABkBnwGoAd4BcAEpAQAAAAB7AQAAkAEhAXIB0AEoAfkBZQG6AbEBuACuAFMBtQDvAFcBlAEWAtUBHALCAKwAugADAugB7QAjAgAA9QHYARAB4QBMAQAAWgL/ADMBMQIIAQAAbwEAANYB7gEUAbYAggGjARoBGQIVAW8BrgEKAd8BxAHrAZQBxQDLAC8BhgHPAekBvAGkAQAAXQEpAcIADgL5APUAlAEXAcEArwHRAAAA2wFhAbEB0AFSAR8BAACTAQAA8gGeASICFgHRAAAAGAIAANYBTgEvAtEA5wH/ACICAADUAAAAlAFvAQAA8QHWALcAWQIVAfMA8wFmAYEB9gAXAgwBAAC+AewByQFpAQAAYgEFArQAEwGCAbYBDAHQAOYAzQDAAXAB7gEKAgAAGwIAAAAAFwLnAaUBxgDJAFoBeAESAQAAcwH1AQkCIALTAJwBUgGxAXABtAAYAe0AAAAwArEAjQEIAgYB8gAAABIB7wEtASMBwQB4ASoBKwGtAbMB9gApAnQBkQEAANMATgEcAYUBfwEiAugBRAEAAmABBAELAl4B4gBVAfEA3wCWAcgB5AHMAS8CogHCALgBOQEyAeMB1wCuAW8B8gDmAbMAVQCFAX0BMgErAcgAQwEnAcYA+AEfAfkBbwGEARQBEgJeASEC7gAvAvYABQLdAckBKAI6AeYBiAHpAasBcAFOAbgBRAHVARABxAEHArUBxwE8AeoA6gBvAaoA6wEFAQAA1wHEARQC1QAAAK8B0AH8ADcBywEpAioBZAFZAhcBSAGuAJYBeQF3ASwCVgBcAQUB9QEFAgUCWQK/AYYBWwErAtEB7QHrABsB8QADAbwAvwAAAKEBEwKGAUsBVAEWAekBPwEaAQAAFQGxAdYBXAHnAUYBVgH/AaYBCAKiAUsByAFvAQAA7QDCAAAADgLIANQA1wERAt0BvQFSAQAAFAEvAUAB0wByAaQBmAF7AYEBRwEhAv8B+gEAAG0B/QC5AA8BiQHXAFkBCwERARUBDwIVASwBZAGeAfsBwwAWAVoBsQETAYEB8wEuAkYBmAFiAeAB2gBcAW0BUAEAAIABJwGfAWABIAHbABsCAQJpAdQAAADoAAAA6AH6AHABNgEAAFABsQCtAaABPAFvASoBAABdAbIBoQE=",
          "dtype": "i2"
         },
         "yaxis": "y5"
        },
        {
         "marker": {
          "color": "lightgreen"
         },
         "name": "max_heart_rate",
         "nbinsx": 20,
         "type": "histogram",
         "x": {
          "bdata": "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",
          "dtype": "i2"
         },
         "xaxis": "x3",
         "yaxis": "y3"
        },
        {
         "boxpoints": "outliers",
         "marker": {
          "color": "lightgreen"
         },
         "name": "Sağlıklı",
         "type": "box",
         "xaxis": "x6",
         "y": {
          "bdata": "cwDKAMAAigDAAHUAqgDCAFcAWwC3AMcAwwBWAMoAfwCcAH0ATgBTAK8AbACMAHYAZABpAFoAcQBZAHwAoACrAH4AwwBmAJgAoQBPAMoApwCwAKUAVwCmAIgAWgB4AKwAUABhAMMAvQCGAFYAYgCAAJYAhgBVAEkAnABxAMIAqABIAGcAWgCEAMAAgwBrAHgAugBTAKgApABcAGkAdAC7AMMAmwC3AEwAlgCIAK0AZQCcAEoApwDEAG0AwgBjAFYApgBqALgAXQBTALgAoACyAL4AbACVAHsAowC7ALwAqwCfALMAUwCxAFsAdQBzAJQASgCBAIgAnQCVALIAYgBVAI8AgABgAHQAXgB2AEcAgADCAKUAjwCiAE0ASgBRAMcAhwCiAHoAmABLAJgAtwB6AHkAtwCMAGwAXwDGAIsAsABIAKQAfABsAJ4AvwChAIYAgQCDAKMATgCFAE4ArwC1AMAASQBHAIEAbQBqAKUAyAClAI8AhQB+AL8AZwCQALwAfACEAMAAmgBWALoAwABVALsAgACKAEkAVQCqAKwAhwC+AEgApgC6AKcAqgBeAJUAgwC4ALsAkABqAI4AsAC0AFkAiwB9AIgAiACMALIAvwDHAFAAqwBiAEgAugBIAFsAyABtAKgASQBwAFAAsACGALkAagCKAFkAfwB2AIkAoAC7AKMAuADCAGwAgwC6AEgAcQDIAG4AxACmAJwAUAB6AFEAsQDHAKgAXACAAMgAgABJALgAvwC2AFMAgQBsALEAYwCGAMMAbwCkAG8AlACBAIAAygBzAKsAoACMAL0AyACAAG8AZQBzAH8AjgBiAMcAbwBoALoAcgCIAJQAXQBuAG4AaABQAEcAdQCsAEcAngBdAGsAeADJALUAtQCOAKIAeQBgAGUAVQBLAMEAtQCAAE8AiwCKAFYAhwBdAEsAlgBgAH8AuQBRAEwAfwB5AMoAZwB8AHoAxwB/AGQAggC0AFsAsABaAHgAdACgAEwAbwCmAHAAtADAAJEAhwClAL8ArgBOAG4ATQC5AI4AcwCLAGcAhwCBAMgAqgCUAG4ATABVAMAAVQBzALAAqgB1ALoAnACfAF0AYwBdAIIAegC8AFoAgABiAI8A",
          "dtype": "i2"
         },
         "yaxis": "y6"
        },
        {
         "boxpoints": "outliers",
         "marker": {
          "color": "lightgreen"
         },
         "name": "Hastalık",
         "type": "box",
         "xaxis": "x6",
         "y": {
          "bdata": "kwCZAIgAoQCdAJYAlwCKAIYAbgCoAIwAfAC4ALEAxAB3AIUAwwCXAJUAhwC5ALEAvwC4AIkAtQByAIwAYQCwAI4AfgBvAJoApwDGAKcArgCsAK0AgQClAH0AwgB0AMYAmwC5AHMApACtAGMArgCpAMYAZQC/AI0AogByAMQAiABvAMIAyQCnAJEAowBwAHUAggBpAGEAqAC+AHEAiwC6AJMAmgCfALoAhAC5AKAAYgCLAKQAkwB8AKkAkwC6AGoAkQB0AMYAigC1AK4AigC6AMkArQCRAJcAtgCXAGwAxQCXAL4AuACSALwAjADBAJMAnACRAI0AsADEAHgAxACsALAAjACUAKAAgwBxAGEAkgCRAJEAhwCvAIkAiQCbAIcAbwC1ALMAigCYAMAAtgCoAHwAaQCpAJIAqQC3AJoAiACKAKEArACVAK8ArgCZAMcAsADEAH4AdgC+AH8AiACoAJwAvwCNAIsAcwC1AJEAjgCUAIoAZQCuAKQAkQC5AJ0ArwCiAHAAgwC3AIEAxgCiAK8AogCcAMoAfAChALEAmwCdAGUAeACZAGkArQB3AIoAYwCLAJcAjwBxAGEAnACFAHYAewC7AKkAqQCQAJ0AgwCFALEAkQCVAKQAdABsAIgAnwC2ALoAagDKAJkAkQCSAKgAogCAAIMAdwCDAH4AkQBpAHUAwgB+AHkAggCdAHgAogCzAJEAxwCaAJAAmQCvAL4AngCvAJgAyQCxAHUAswCNAK0AvwBjALUAyQCuAGIAqQCOAJwAjwCaAMQAjQC4AKwAvQCvAHgAqQCzAI4AlQC7AK8AggBuAIMAwQCYAHYAlgC1AMEAdACaAMAAagC3AGsAugC6AKYAhgCYAIcAqACSAGoAmwCKALgAxQCiAMkAmwCdAHwAYwC0AJUAigCwAH0AlABiAI4AgACWAG8AvQCcAJMAswBoAGwAkwCsAMAArgC5AJAAbACLAJoAwACTAI4AnACRAIwAdQBgAJEAuwCRAL4AoACoAJMAgQDJAKkAkQCvAIsAewCHAGgAnAB2AH4AbgDDAH8AhgCoALsAvwCyAJoAawCLAGMAigC5AKYAjQCnAHgAvwCUAKkAtwC6AJUAqwB2AGIAuACLAI0AcwCFAJUAkgCdAJUAnACpAIkAiQBxAGEAwwBwAK8AigCcAHoAuAC6ALkAkQClAJoAjQCyAKcAqAB6ALsAqABpAJUAawC6AGMAgwB8AGMAiACfAIcAqQCOALgAugCBALUAYwCuAKgAbwCHALAAlACRAHwAfQDBALsAhAC6AHEAygCbALQAlQByAMcArgCOAIoAvgBiAMYAjgB3AL4AoABpAJ0AvAB6AK8AvQBrAJUAtwCfAH8AhwBpAL4AtACLAKkAsAC6AGMAqQBpAI0AqACcAGMAuwCuALwArwB+AKIAhACHAKAAnQC8ALgAdQCLALUAigByAJIAqwCkAGMAiwCHALYAqACKAIoAdwDAALYAmwCcAHEAxADGALAAlACFAKoApQCfAHoAYQCoAJkAbQBgAI4AwwC3AMQAdQA=",
          "dtype": "i2"
         },
         "yaxis": "y6"
        }
       ],
       "layout": {
        "annotations": [
         {
          "font": {
           "size": 16
          },
          "showarrow": false,
          "text": "Dinlenik Kan Basıncı",
          "x": 0.14444444444444446,
          "xanchor": "center",
          "xref": "paper",
          "y": 1,
          "yanchor": "bottom",
          "yref": "paper"
         },
         {
          "font": {
           "size": 16
          },
          "showarrow": false,
          "text": "Serum Kolesterol",
          "x": 0.5,
          "xanchor": "center",
          "xref": "paper",
          "y": 1,
          "yanchor": "bottom",
          "yref": "paper"
         },
         {
          "font": {
           "size": 16
          },
          "showarrow": false,
          "text": "Max Kalp Hızı",
          "x": 0.8555555555555556,
          "xanchor": "center",
          "xref": "paper",
          "y": 1,
          "yanchor": "bottom",
          "yref": "paper"
         },
         {
          "font": {
           "size": 16
          },
          "showarrow": false,
          "text": "Kan Basıncı vs Hedef",
          "x": 0.14444444444444446,
          "xanchor": "center",
          "xref": "paper",
          "y": 0.375,
          "yanchor": "bottom",
          "yref": "paper"
         },
         {
          "font": {
           "size": 16
          },
          "showarrow": false,
          "text": "Kolesterol vs Hedef",
          "x": 0.5,
          "xanchor": "center",
          "xref": "paper",
          "y": 0.375,
          "yanchor": "bottom",
          "yref": "paper"
         },
         {
          "font": {
           "size": 16
          },
          "showarrow": false,
          "text": "Kalp Hızı vs Hedef",
          "x": 0.8555555555555556,
          "xanchor": "center",
          "xref": "paper",
          "y": 0.375,
          "yanchor": "bottom",
          "yref": "paper"
         }
        ],
        "height": 800,
        "showlegend": false,
        "template": {
         "data": {
          "bar": [
           {
            "error_x": {
             "color": "#2a3f5f"
            },
            "error_y": {
             "color": "#2a3f5f"
            },
            "marker": {
             "line": {
              "color": "#E5ECF6",
              "width": 0.5
             },
             "pattern": {
              "fillmode": "overlay",
              "size": 10,
              "solidity": 0.2
             }
            },
            "type": "bar"
           }
          ],
          "barpolar": [
           {
            "marker": {
             "line": {
              "color": "#E5ECF6",
              "width": 0.5
             },
             "pattern": {
              "fillmode": "overlay",
              "size": 10,
              "solidity": 0.2
             }
            },
            "type": "barpolar"
           }
          ],
          "carpet": [
           {
            "aaxis": {
             "endlinecolor": "#2a3f5f",
             "gridcolor": "white",
             "linecolor": "white",
             "minorgridcolor": "white",
             "startlinecolor": "#2a3f5f"
            },
            "baxis": {
             "endlinecolor": "#2a3f5f",
             "gridcolor": "white",
             "linecolor": "white",
             "minorgridcolor": "white",
             "startlinecolor": "#2a3f5f"
            },
            "type": "carpet"
           }
          ],
          "choropleth": [
           {
            "colorbar": {
             "outlinewidth": 0,
             "ticks": ""
            },
            "type": "choropleth"
           }
          ],
          "contour": [
           {
            "colorbar": {
             "outlinewidth": 0,
             "ticks": ""
            },
            "colorscale": [
             [
              0,
              "#0d0887"
             ],
             [
              0.1111111111111111,
              "#46039f"
             ],
             [
              0.2222222222222222,
              "#7201a8"
             ],
             [
              0.3333333333333333,
              "#9c179e"
             ],
             [
              0.4444444444444444,
              "#bd3786"
             ],
             [
              0.5555555555555556,
              "#d8576b"
             ],
             [
              0.6666666666666666,
              "#ed7953"
             ],
             [
              0.7777777777777778,
              "#fb9f3a"
             ],
             [
              0.8888888888888888,
              "#fdca26"
             ],
             [
              1,
              "#f0f921"
             ]
            ],
            "type": "contour"
           }
          ],
          "contourcarpet": [
           {
            "colorbar": {
             "outlinewidth": 0,
             "ticks": ""
            },
            "type": "contourcarpet"
           }
          ],
          "heatmap": [
           {
            "colorbar": {
             "outlinewidth": 0,
             "ticks": ""
            },
            "colorscale": [
             [
              0,
              "#0d0887"
             ],
             [
              0.1111111111111111,
              "#46039f"
             ],
             [
              0.2222222222222222,
              "#7201a8"
             ],
             [
              0.3333333333333333,
              "#9c179e"
             ],
             [
              0.4444444444444444,
              "#bd3786"
             ],
             [
              0.5555555555555556,
              "#d8576b"
             ],
             [
              0.6666666666666666,
              "#ed7953"
             ],
             [
              0.7777777777777778,
              "#fb9f3a"
             ],
             [
              0.8888888888888888,
              "#fdca26"
             ],
             [
              1,
              "#f0f921"
             ]
            ],
            "type": "heatmap"
           }
          ],
          "histogram": [
           {
            "marker": {
             "pattern": {
              "fillmode": "overlay",
              "size": 10,
              "solidity": 0.2
             }
            },
            "type": "histogram"
           }
          ],
          "histogram2d": [
           {
            "colorbar": {
             "outlinewidth": 0,
             "ticks": ""
            },
            "colorscale": [
             [
              0,
              "#0d0887"
             ],
             [
              0.1111111111111111,
              "#46039f"
             ],
             [
              0.2222222222222222,
              "#7201a8"
             ],
             [
              0.3333333333333333,
              "#9c179e"
             ],
             [
              0.4444444444444444,
              "#bd3786"
             ],
             [
              0.5555555555555556,
              "#d8576b"
             ],
             [
              0.6666666666666666,
              "#ed7953"
             ],
             [
              0.7777777777777778,
              "#fb9f3a"
             ],
             [
              0.8888888888888888,
              "#fdca26"
             ],
             [
              1,
              "#f0f921"
             ]
            ],
            "type": "histogram2d"
           }
          ],
          "histogram2dcontour": [
           {
            "colorbar": {
             "outlinewidth": 0,
             "ticks": ""
            },
            "colorscale": [
             [
              0,
              "#0d0887"
             ],
             [
              0.1111111111111111,
              "#46039f"
             ],
             [
              0.2222222222222222,
              "#7201a8"
             ],
             [
              0.3333333333333333,
              "#9c179e"
             ],
             [
              0.4444444444444444,
              "#bd3786"
             ],
             [
              0.5555555555555556,
              "#d8576b"
             ],
             [
              0.6666666666666666,
              "#ed7953"
             ],
             [
              0.7777777777777778,
              "#fb9f3a"
             ],
             [
              0.8888888888888888,
              "#fdca26"
             ],
             [
              1,
              "#f0f921"
             ]
            ],
            "type": "histogram2dcontour"
           }
          ],
          "mesh3d": [
           {
            "colorbar": {
             "outlinewidth": 0,
             "ticks": ""
            },
            "type": "mesh3d"
           }
          ],
          "parcoords": [
           {
            "line": {
             "colorbar": {
              "outlinewidth": 0,
              "ticks": ""
             }
            },
            "type": "parcoords"
           }
          ],
          "pie": [
           {
            "automargin": true,
            "type": "pie"
           }
          ],
          "scatter": [
           {
            "fillpattern": {
             "fillmode": "overlay",
             "size": 10,
             "solidity": 0.2
            },
            "type": "scatter"
           }
          ],
          "scatter3d": [
           {
            "line": {
             "colorbar": {
              "outlinewidth": 0,
              "ticks": ""
             }
            },
            "marker": {
             "colorbar": {
              "outlinewidth": 0,
              "ticks": ""
             }
            },
            "type": "scatter3d"
           }
          ],
          "scattercarpet": [
           {
            "marker": {
             "colorbar": {
              "outlinewidth": 0,
              "ticks": ""
             }
            },
            "type": "scattercarpet"
           }
          ],
          "scattergeo": [
           {
            "marker": {
             "colorbar": {
              "outlinewidth": 0,
              "ticks": ""
             }
            },
            "type": "scattergeo"
           }
          ],
          "scattergl": [
           {
            "marker": {
             "colorbar": {
              "outlinewidth": 0,
              "ticks": ""
             }
            },
            "type": "scattergl"
           }
          ],
          "scattermap": [
           {
            "marker": {
             "colorbar": {
              "outlinewidth": 0,
              "ticks": ""
             }
            },
            "type": "scattermap"
           }
          ],
          "scattermapbox": [
           {
            "marker": {
             "colorbar": {
              "outlinewidth": 0,
              "ticks": ""
             }
            },
            "type": "scattermapbox"
           }
          ],
          "scatterpolar": [
           {
            "marker": {
             "colorbar": {
              "outlinewidth": 0,
              "ticks": ""
             }
            },
            "type": "scatterpolar"
           }
          ],
          "scatterpolargl": [
           {
            "marker": {
             "colorbar": {
              "outlinewidth": 0,
              "ticks": ""
             }
            },
            "type": "scatterpolargl"
           }
          ],
          "scatterternary": [
           {
            "marker": {
             "colorbar": {
              "outlinewidth": 0,
              "ticks": ""
             }
            },
            "type": "scatterternary"
           }
          ],
          "surface": [
           {
            "colorbar": {
             "outlinewidth": 0,
             "ticks": ""
            },
            "colorscale": [
             [
              0,
              "#0d0887"
             ],
             [
              0.1111111111111111,
              "#46039f"
             ],
             [
              0.2222222222222222,
              "#7201a8"
             ],
             [
              0.3333333333333333,
              "#9c179e"
             ],
             [
              0.4444444444444444,
              "#bd3786"
             ],
             [
              0.5555555555555556,
              "#d8576b"
             ],
             [
              0.6666666666666666,
              "#ed7953"
             ],
             [
              0.7777777777777778,
              "#fb9f3a"
             ],
             [
              0.8888888888888888,
              "#fdca26"
             ],
             [
              1,
              "#f0f921"
             ]
            ],
            "type": "surface"
           }
          ],
          "table": [
           {
            "cells": {
             "fill": {
              "color": "#EBF0F8"
             },
             "line": {
              "color": "white"
             }
            },
            "header": {
             "fill": {
              "color": "#C8D4E3"
             },
             "line": {
              "color": "white"
             }
            },
            "type": "table"
           }
          ]
         },
         "layout": {
          "annotationdefaults": {
           "arrowcolor": "#2a3f5f",
           "arrowhead": 0,
           "arrowwidth": 1
          },
          "autotypenumbers": "strict",
          "coloraxis": {
           "colorbar": {
            "outlinewidth": 0,
            "ticks": ""
           }
          },
          "colorscale": {
           "diverging": [
            [
             0,
             "#8e0152"
            ],
            [
             0.1,
             "#c51b7d"
            ],
            [
             0.2,
             "#de77ae"
            ],
            [
             0.3,
             "#f1b6da"
            ],
            [
             0.4,
             "#fde0ef"
            ],
            [
             0.5,
             "#f7f7f7"
            ],
            [
             0.6,
             "#e6f5d0"
            ],
            [
             0.7,
             "#b8e186"
            ],
            [
             0.8,
             "#7fbc41"
            ],
            [
             0.9,
             "#4d9221"
            ],
            [
             1,
             "#276419"
            ]
           ],
           "sequential": [
            [
             0,
             "#0d0887"
            ],
            [
             0.1111111111111111,
             "#46039f"
            ],
            [
             0.2222222222222222,
             "#7201a8"
            ],
            [
             0.3333333333333333,
             "#9c179e"
            ],
            [
             0.4444444444444444,
             "#bd3786"
            ],
            [
             0.5555555555555556,
             "#d8576b"
            ],
            [
             0.6666666666666666,
             "#ed7953"
            ],
            [
             0.7777777777777778,
             "#fb9f3a"
            ],
            [
             0.8888888888888888,
             "#fdca26"
            ],
            [
             1,
             "#f0f921"
            ]
           ],
           "sequentialminus": [
            [
             0,
             "#0d0887"
            ],
            [
             0.1111111111111111,
             "#46039f"
            ],
            [
             0.2222222222222222,
             "#7201a8"
            ],
            [
             0.3333333333333333,
             "#9c179e"
            ],
            [
             0.4444444444444444,
             "#bd3786"
            ],
            [
             0.5555555555555556,
             "#d8576b"
            ],
            [
             0.6666666666666666,
             "#ed7953"
            ],
            [
             0.7777777777777778,
             "#fb9f3a"
            ],
            [
             0.8888888888888888,
             "#fdca26"
            ],
            [
             1,
             "#f0f921"
            ]
           ]
          },
          "colorway": [
           "#636efa",
           "#EF553B",
           "#00cc96",
           "#ab63fa",
           "#FFA15A",
           "#19d3f3",
           "#FF6692",
           "#B6E880",
           "#FF97FF",
           "#FECB52"
          ],
          "font": {
           "color": "#2a3f5f"
          },
          "geo": {
           "bgcolor": "white",
           "lakecolor": "white",
           "landcolor": "#E5ECF6",
           "showlakes": true,
           "showland": true,
           "subunitcolor": "white"
          },
          "hoverlabel": {
           "align": "left"
          },
          "hovermode": "closest",
          "mapbox": {
           "style": "light"
          },
          "paper_bgcolor": "white",
          "plot_bgcolor": "#E5ECF6",
          "polar": {
           "angularaxis": {
            "gridcolor": "white",
            "linecolor": "white",
            "ticks": ""
           },
           "bgcolor": "#E5ECF6",
           "radialaxis": {
            "gridcolor": "white",
            "linecolor": "white",
            "ticks": ""
           }
          },
          "scene": {
           "xaxis": {
            "backgroundcolor": "#E5ECF6",
            "gridcolor": "white",
            "gridwidth": 2,
            "linecolor": "white",
            "showbackground": true,
            "ticks": "",
            "zerolinecolor": "white"
           },
           "yaxis": {
            "backgroundcolor": "#E5ECF6",
            "gridcolor": "white",
            "gridwidth": 2,
            "linecolor": "white",
            "showbackground": true,
            "ticks": "",
            "zerolinecolor": "white"
           },
           "zaxis": {
            "backgroundcolor": "#E5ECF6",
            "gridcolor": "white",
            "gridwidth": 2,
            "linecolor": "white",
            "showbackground": true,
            "ticks": "",
            "zerolinecolor": "white"
           }
          },
          "shapedefaults": {
           "line": {
            "color": "#2a3f5f"
           }
          },
          "ternary": {
           "aaxis": {
            "gridcolor": "white",
            "linecolor": "white",
            "ticks": ""
           },
           "baxis": {
            "gridcolor": "white",
            "linecolor": "white",
            "ticks": ""
           },
           "bgcolor": "#E5ECF6",
           "caxis": {
            "gridcolor": "white",
            "linecolor": "white",
            "ticks": ""
           }
          },
          "title": {
           "x": 0.05
          },
          "xaxis": {
           "automargin": true,
           "gridcolor": "white",
           "linecolor": "white",
           "ticks": "",
           "title": {
            "standoff": 15
           },
           "zerolinecolor": "white",
           "zerolinewidth": 2
          },
          "yaxis": {
           "automargin": true,
           "gridcolor": "white",
           "linecolor": "white",
           "ticks": "",
           "title": {
            "standoff": 15
           },
           "zerolinecolor": "white",
           "zerolinewidth": 2
          }
         }
        },
        "title": {
         "text": "🏥 Klinik Parametreler Analizi"
        },
        "xaxis": {
         "anchor": "y",
         "domain": [
          0,
          0.2888888888888889
         ]
        },
        "xaxis2": {
         "anchor": "y2",
         "domain": [
          0.35555555555555557,
          0.6444444444444445
         ]
        },
        "xaxis3": {
         "anchor": "y3",
         "domain": [
          0.7111111111111111,
          1
         ]
        },
        "xaxis4": {
         "anchor": "y4",
         "domain": [
          0,
          0.2888888888888889
         ]
        },
        "xaxis5": {
         "anchor": "y5",
         "domain": [
          0.35555555555555557,
          0.6444444444444445
         ]
        },
        "xaxis6": {
         "anchor": "y6",
         "domain": [
          0.7111111111111111,
          1
         ]
        },
        "yaxis": {
         "anchor": "x",
         "domain": [
          0.625,
          1
         ]
        },
        "yaxis2": {
         "anchor": "x2",
         "domain": [
          0.625,
          1
         ]
        },
        "yaxis3": {
         "anchor": "x3",
         "domain": [
          0.625,
          1
         ]
        },
        "yaxis4": {
         "anchor": "x4",
         "domain": [
          0,
          0.375
         ]
        },
        "yaxis5": {
         "anchor": "x5",
         "domain": [
          0,
          0.375
         ]
        },
        "yaxis6": {
         "anchor": "x6",
         "domain": [
          0,
          0.375
         ]
        }
       }
      }
     },
     "metadata": {},
     "output_type": "display_data"
    },
    {
     "name": "stdout",
     "output_type": "stream",
     "text": [
      "\n",
      "🔗 KORELASYON ANALİZİ:\n",
      "========================================\n"
     ]
    },
    {
     "data": {
      "text/html": [
       "<div>\n",
       "<style scoped>\n",
       "    .dataframe tbody tr th:only-of-type {\n",
       "        vertical-align: middle;\n",
       "    }\n",
       "\n",
       "    .dataframe tbody tr th {\n",
       "        vertical-align: top;\n",
       "    }\n",
       "\n",
       "    .dataframe thead th {\n",
       "        text-align: right;\n",
       "    }\n",
       "</style>\n",
       "<table border=\"1\" class=\"dataframe\">\n",
       "  <thead>\n",
       "    <tr style=\"text-align: right;\">\n",
       "      <th></th>\n",
       "      <th>resting_blood_pressure</th>\n",
       "      <th>serum_cholesterol</th>\n",
       "      <th>max_heart_rate</th>\n",
       "      <th>target</th>\n",
       "    </tr>\n",
       "  </thead>\n",
       "  <tbody>\n",
       "    <tr>\n",
       "      <th>resting_blood_pressure</th>\n",
       "      <td>1.000</td>\n",
       "      <td>0.127</td>\n",
       "      <td>0.096</td>\n",
       "      <td>0.482</td>\n",
       "    </tr>\n",
       "    <tr>\n",
       "      <th>serum_cholesterol</th>\n",
       "      <td>0.127</td>\n",
       "      <td>1.000</td>\n",
       "      <td>0.039</td>\n",
       "      <td>0.195</td>\n",
       "    </tr>\n",
       "    <tr>\n",
       "      <th>max_heart_rate</th>\n",
       "      <td>0.096</td>\n",
       "      <td>0.039</td>\n",
       "      <td>1.000</td>\n",
       "      <td>0.228</td>\n",
       "    </tr>\n",
       "    <tr>\n",
       "      <th>target</th>\n",
       "      <td>0.482</td>\n",
       "      <td>0.195</td>\n",
       "      <td>0.228</td>\n",
       "      <td>1.000</td>\n",
       "    </tr>\n",
       "  </tbody>\n",
       "</table>\n",
       "</div>"
      ],
      "text/plain": [
       "                        resting_blood_pressure  serum_cholesterol  \\\n",
       "resting_blood_pressure                   1.000              0.127   \n",
       "serum_cholesterol                        0.127              1.000   \n",
       "max_heart_rate                           0.096              0.039   \n",
       "target                                   0.482              0.195   \n",
       "\n",
       "                        max_heart_rate  target  \n",
       "resting_blood_pressure           0.096   0.482  \n",
       "serum_cholesterol                0.039   0.195  \n",
       "max_heart_rate                   1.000   0.228  \n",
       "target                           0.228   1.000  "
      ]
     },
     "metadata": {},
     "output_type": "display_data"
    },
    {
     "data": {
      "image/png": "[encoded data removed]",
      "text/plain": [
       "<Figure size 1000x800 with 2 Axes>"
      ]
     },
     "metadata": {},
     "output_type": "display_data"
    },
    {
     "name": "stdout",
     "output_type": "stream",
     "text": [
      "\n",
      "⚠️ RİSK FAKTÖRLERİ ANALİZİ:\n",
      "========================================\n",
      "🩸 Yüksek kan basıncı (>140): 567 kişi (%56.7)\n",
      "🧪 Yüksek kolesterol (>240): 737 kişi (%73.7)\n",
      "💓 Düşük max kalp hızı (<120): 250 kişi (%25.0)\n"
     ]
    }
   ],
   "source": [
    "# 🏥 Klinik Özellikler Analizi\n",
    "\n",
    "# Ana klinik parametreler\n",
    "clinical_features = ['resting_blood_pressure', 'serum_cholesterol', 'max_heart_rate']\n",
    "\n",
    "fig = make_subplots(\n",
    "    rows=2, cols=3,\n",
    "    subplot_titles=('Dinlenik Kan Basıncı', 'Serum Kolesterol', 'Max Kalp Hızı',\n",
    "                   'Kan Basıncı vs Hedef', 'Kolesterol vs Hedef', 'Kalp Hızı vs Hedef'),\n",
    "    specs=[[{\"type\": \"histogram\"}, {\"type\": \"histogram\"}, {\"type\": \"histogram\"}],\n",
    "           [{\"type\": \"box\"}, {\"type\": \"box\"}, {\"type\": \"box\"}]]\n",
    ")\n",
    "\n",
    "# Dağılım histogramları\n",
    "colors = ['lightblue', 'lightcoral', 'lightgreen']\n",
    "for i, feature in enumerate(clinical_features):\n",
    "    fig.add_trace(\n",
    "        go.Histogram(x=df[feature], nbinsx=20, \n",
    "                    marker_color=colors[i], name=feature),\n",
    "        row=1, col=i+1\n",
    "    )\n",
    "    \n",
    "    # Hedef ile ilişki kutu grafikleri\n",
    "    for target_val in [0, 1]:\n",
    "        target_label = 'Sağlıklı' if target_val == 0 else 'Hastalık'\n",
    "        fig.add_trace(\n",
    "            go.Box(y=df[df['target'] == target_val][feature],\n",
    "                   name=f'{target_label}', \n",
    "                   boxpoints='outliers',\n",
    "                   marker_color=colors[i]),\n",
    "            row=2, col=i+1\n",
    "        )\n",
    "\n",
    "fig.update_layout(height=800, title_text=\"🏥 Klinik Parametreler Analizi\", showlegend=False)\n",
    "fig.show()\n",
    "\n",
    "# Korelasyon matrisi\n",
    "print(\"\\n🔗 KORELASYON ANALİZİ:\")\n",
    "print(\"=\" * 40)\n",
    "correlation_matrix = df[clinical_features + ['target']].corr()\n",
    "display(correlation_matrix.round(3))\n",
    "\n",
    "# Korelasyon heatmap\n",
    "plt.figure(figsize=(10, 8))\n",
    "mask = np.triu(np.ones_like(correlation_matrix, dtype=bool))\n",
    "sns.heatmap(correlation_matrix, annot=True, cmap='RdYlBu_r', center=0,\n",
    "            square=True, fmt='.3f', cbar_kws={\"shrink\": .8})\n",
    "plt.title('🔥 Klinik Parametreler Korelasyon Haritası')\n",
    "plt.tight_layout()\n",
    "plt.show()\n",
    "\n",
    "# Risk faktörleri analizi\n",
    "print(\"\\n⚠️ RİSK FAKTÖRLERİ ANALİZİ:\")\n",
    "print(\"=\" * 40)\n",
    "high_risk_bp = (df['resting_blood_pressure'] > 140).sum()\n",
    "high_risk_chol = (df['serum_cholesterol'] > 240).sum()\n",
    "low_max_hr = (df['max_heart_rate'] < 120).sum()\n",
    "\n",
    "print(f\"🩸 Yüksek kan basıncı (>140): {high_risk_bp} kişi (%{high_risk_bp/len(df)*100:.1f})\")\n",
    "print(f\"🧪 Yüksek kolesterol (>240): {high_risk_chol} kişi (%{high_risk_chol/len(df)*100:.1f})\")\n",
    "print(f\"💓 Düşük max kalp hızı (<120): {low_max_hr} kişi (%{low_max_hr/len(df)*100:.1f})\")"
   ]
  },
  {
   "cell_type": "markdown",
   "id": "583ad267",
   "metadata": {},
   "source": [
    "## 🔧 PACE Aşama 3: CONSTRUCT (İnşa)\n",
    "\n",
    "### 🛠️ Veri Ön İşleme ve Model Hazırlığı"
   ]
  },
  {
   "cell_type": "code",
   "execution_count": 9,
   "id": "7c6f832e",
   "metadata": {},
   "outputs": [
    {
     "name": "stdout",
     "output_type": "stream",
     "text": [
      "🎯 MODEL VERİSİ HAZIRLIĞI:\n",
      "========================================\n",
      "Özellik sayısı: 12\n",
      "Örnek sayısı: 1000\n",
      "Özellik isimleri: ['age', 'gender', 'chest_pain_type', 'resting_blood_pressure', 'serum_cholesterol', 'fasting_blood_sugar', 'resting_ecg', 'max_heart_rate', 'exercise_angina', 'oldpeak', 'slope', 'num_major_vessels']\n",
      "\n",
      "📊 Kategorisel özellikler: ['chest_pain_type', 'fasting_blood_sugar', 'resting_ecg', 'exercise_angina', 'slope', 'num_major_vessels']\n",
      "🔢 Sayısal özellikler: ['age', 'gender', 'resting_blood_pressure', 'serum_cholesterol', 'max_heart_rate', 'oldpeak']\n",
      "\n",
      "🚨 OUTLIER ANALİZİ:\n",
      "==============================\n",
      "age: 0 outlier\n",
      "gender: 235 outlier\n",
      "resting_blood_pressure: 0 outlier\n",
      "serum_cholesterol: 0 outlier\n",
      "max_heart_rate: 0 outlier\n",
      "oldpeak: 0 outlier\n",
      "\n",
      "Toplam benzersiz outlier: 235\n",
      "Outlier oranı: %23.5\n",
      "\n",
      "📊 VERİ SETİ BÖLÜNMESI:\n",
      "==============================\n",
      "Eğitim seti: 800 örnek\n",
      "Test seti: 200 örnek\n",
      "Eğitim seti hedef dağılımı: [464 336]\n",
      "Test seti hedef dağılımı: [116  84]\n",
      "\n",
      "✅ Özellik ölçeklendirme tamamlandı!\n"
     ]
    }
   ],
   "source": [
    "# 🛠️ Veri Ön İşleme ve Özellik Mühendisliği\n",
    "\n",
    "# Özellik ve hedef değişkenleri ayırma\n",
    "X = df.drop(['patient_id', 'target'], axis=1)\n",
    "y = df['target']\n",
    "\n",
    "print(\"🎯 MODEL VERİSİ HAZIRLIĞI:\")\n",
    "print(\"=\" * 40)\n",
    "print(f\"Özellik sayısı: {X.shape[1]}\")\n",
    "print(f\"Örnek sayısı: {X.shape[0]}\")\n",
    "print(f\"Özellik isimleri: {list(X.columns)}\")\n",
    "\n",
    "# Kategorisel değişkenleri identify etme\n",
    "categorical_features = ['chest_pain_type', 'fasting_blood_sugar', 'resting_ecg', \n",
    "                       'exercise_angina', 'slope', 'num_major_vessels']\n",
    "numerical_features = ['age', 'gender', 'resting_blood_pressure', 'serum_cholesterol', 'max_heart_rate', 'oldpeak']\n",
    "\n",
    "print(f\"\\n📊 Kategorisel özellikler: {categorical_features}\")\n",
    "print(f\"🔢 Sayısal özellikler: {numerical_features}\")\n",
    "\n",
    "# Outlier detection ve treatment\n",
    "def detect_outliers_iqr(data, column):\n",
    "    Q1 = data[column].quantile(0.25)\n",
    "    Q3 = data[column].quantile(0.75)\n",
    "    IQR = Q3 - Q1\n",
    "    lower_bound = Q1 - 1.5 * IQR\n",
    "    upper_bound = Q3 + 1.5 * IQR\n",
    "    outliers = data[(data[column] < lower_bound) | (data[column] > upper_bound)]\n",
    "    return outliers.index\n",
    "\n",
    "print(\"\\n🚨 OUTLIER ANALİZİ:\")\n",
    "print(\"=\" * 30)\n",
    "total_outliers = set()\n",
    "for feature in numerical_features:\n",
    "    if feature in X.columns:\n",
    "        outlier_indices = detect_outliers_iqr(X, feature)\n",
    "        total_outliers.update(outlier_indices)\n",
    "        print(f\"{feature}: {len(outlier_indices)} outlier\")\n",
    "\n",
    "print(f\"\\nToplam benzersiz outlier: {len(total_outliers)}\")\n",
    "print(f\"Outlier oranı: %{len(total_outliers)/len(X)*100:.1f}\")\n",
    "\n",
    "# Veri setini train/test olarak ayırma\n",
    "X_train, X_test, y_train, y_test = train_test_split(\n",
    "    X, y, test_size=0.2, random_state=42, stratify=y\n",
    ")\n",
    "\n",
    "print(f\"\\n📊 VERİ SETİ BÖLÜNMESI:\")\n",
    "print(\"=\" * 30)\n",
    "print(f\"Eğitim seti: {X_train.shape[0]} örnek\")\n",
    "print(f\"Test seti: {X_test.shape[0]} örnek\")\n",
    "print(f\"Eğitim seti hedef dağılımı: {y_train.value_counts().values}\")\n",
    "print(f\"Test seti hedef dağılımı: {y_test.value_counts().values}\")\n",
    "\n",
    "# Sayısal özellikleri ölçeklendirme\n",
    "scaler = StandardScaler()\n",
    "X_train_scaled = X_train.copy()\n",
    "X_test_scaled = X_test.copy()\n",
    "\n",
    "X_train_scaled[numerical_features] = scaler.fit_transform(X_train[numerical_features])\n",
    "X_test_scaled[numerical_features] = scaler.transform(X_test[numerical_features])\n",
    "\n",
    "print(\"\\n✅ Özellik ölçeklendirme tamamlandı!\")"
   ]
  },
  {
   "cell_type": "code",
   "execution_count": 10,
   "id": "a00fdaf9",
   "metadata": {},
   "outputs": [
    {
     "name": "stdout",
     "output_type": "stream",
     "text": [
      "🚀 MODEL EĞİTİMİ VE DEĞERLENDİRMESİ:\n",
      "==================================================\n",
      "\n",
      "🔄 Logistic Regression modeli eğitiliyor...\n",
      "✅ Logistic Regression tamamlandı!\n",
      "   CV Accuracy: 0.963 (±0.010)\n",
      "   Test Accuracy: 0.985\n",
      "   ROC-AUC: 0.998\n",
      "\n",
      "🔄 Random Forest modeli eğitiliyor...\n",
      "✅ Random Forest tamamlandı!\n",
      "   CV Accuracy: 0.972 (±0.013)\n",
      "   Test Accuracy: 0.985\n",
      "   ROC-AUC: 0.999\n",
      "\n",
      "🔄 Gradient Boosting modeli eğitiliyor...\n",
      "✅ Random Forest tamamlandı!\n",
      "   CV Accuracy: 0.972 (±0.013)\n",
      "   Test Accuracy: 0.985\n",
      "   ROC-AUC: 0.999\n",
      "\n",
      "🔄 Gradient Boosting modeli eğitiliyor...\n",
      "✅ Gradient Boosting tamamlandı!\n",
      "   CV Accuracy: 0.978 (±0.006)\n",
      "   Test Accuracy: 0.990\n",
      "   ROC-AUC: 1.000\n",
      "\n",
      "🔄 Support Vector Machine modeli eğitiliyor...\n",
      "✅ Support Vector Machine tamamlandı!\n",
      "   CV Accuracy: 0.963 (±0.016)\n",
      "   Test Accuracy: 0.970\n",
      "   ROC-AUC: 0.998\n",
      "\n",
      "📊 MODEL PERFORMANS KARŞILAŞTIRMASI:\n",
      "==================================================\n",
      "✅ Gradient Boosting tamamlandı!\n",
      "   CV Accuracy: 0.978 (±0.006)\n",
      "   Test Accuracy: 0.990\n",
      "   ROC-AUC: 1.000\n",
      "\n",
      "🔄 Support Vector Machine modeli eğitiliyor...\n",
      "✅ Support Vector Machine tamamlandı!\n",
      "   CV Accuracy: 0.963 (±0.016)\n",
      "   Test Accuracy: 0.970\n",
      "   ROC-AUC: 0.998\n",
      "\n",
      "📊 MODEL PERFORMANS KARŞILAŞTIRMASI:\n",
      "==================================================\n"
     ]
    },
    {
     "data": {
      "text/html": [
       "<div>\n",
       "<style scoped>\n",
       "    .dataframe tbody tr th:only-of-type {\n",
       "        vertical-align: middle;\n",
       "    }\n",
       "\n",
       "    .dataframe tbody tr th {\n",
       "        vertical-align: top;\n",
       "    }\n",
       "\n",
       "    .dataframe thead th {\n",
       "        text-align: right;\n",
       "    }\n",
       "</style>\n",
       "<table border=\"1\" class=\"dataframe\">\n",
       "  <thead>\n",
       "    <tr style=\"text-align: right;\">\n",
       "      <th></th>\n",
       "      <th>Model</th>\n",
       "      <th>CV_Accuracy</th>\n",
       "      <th>CV_Std</th>\n",
       "      <th>Test_Accuracy</th>\n",
       "      <th>Precision</th>\n",
       "      <th>Recall</th>\n",
       "      <th>F1_Score</th>\n",
       "      <th>ROC_AUC</th>\n",
       "    </tr>\n",
       "  </thead>\n",
       "  <tbody>\n",
       "    <tr>\n",
       "      <th>2</th>\n",
       "      <td>Gradient Boosting</td>\n",
       "      <td>0.978</td>\n",
       "      <td>0.006</td>\n",
       "      <td>0.990</td>\n",
       "      <td>0.991</td>\n",
       "      <td>0.991</td>\n",
       "      <td>0.991</td>\n",
       "      <td>1.000</td>\n",
       "    </tr>\n",
       "    <tr>\n",
       "      <th>0</th>\n",
       "      <td>Logistic Regression</td>\n",
       "      <td>0.962</td>\n",
       "      <td>0.010</td>\n",
       "      <td>0.985</td>\n",
       "      <td>0.983</td>\n",
       "      <td>0.991</td>\n",
       "      <td>0.987</td>\n",
       "      <td>0.998</td>\n",
       "    </tr>\n",
       "    <tr>\n",
       "      <th>1</th>\n",
       "      <td>Random Forest</td>\n",
       "      <td>0.972</td>\n",
       "      <td>0.013</td>\n",
       "      <td>0.985</td>\n",
       "      <td>0.983</td>\n",
       "      <td>0.991</td>\n",
       "      <td>0.987</td>\n",
       "      <td>0.999</td>\n",
       "    </tr>\n",
       "    <tr>\n",
       "      <th>3</th>\n",
       "      <td>Support Vector Machine</td>\n",
       "      <td>0.962</td>\n",
       "      <td>0.016</td>\n",
       "      <td>0.970</td>\n",
       "      <td>0.966</td>\n",
       "      <td>0.983</td>\n",
       "      <td>0.974</td>\n",
       "      <td>0.998</td>\n",
       "    </tr>\n",
       "  </tbody>\n",
       "</table>\n",
       "</div>"
      ],
      "text/plain": [
       "                    Model  CV_Accuracy  CV_Std  Test_Accuracy  Precision  \\\n",
       "2       Gradient Boosting        0.978   0.006          0.990      0.991   \n",
       "0     Logistic Regression        0.962   0.010          0.985      0.983   \n",
       "1           Random Forest        0.972   0.013          0.985      0.983   \n",
       "3  Support Vector Machine        0.962   0.016          0.970      0.966   \n",
       "\n",
       "   Recall  F1_Score  ROC_AUC  \n",
       "2   0.991     0.991    1.000  \n",
       "0   0.991     0.987    0.998  \n",
       "1   0.991     0.987    0.999  \n",
       "3   0.983     0.974    0.998  "
      ]
     },
     "metadata": {},
     "output_type": "display_data"
    }
   ],
   "source": [
    "# 🤖 Model Geliştirme ve Karşılaştırma\n",
    "\n",
    "# Farklı algoritmaları test etme\n",
    "models = {\n",
    "    'Logistic Regression': LogisticRegression(random_state=42, max_iter=1000),\n",
    "    'Random Forest': RandomForestClassifier(random_state=42, n_estimators=100),\n",
    "    'Gradient Boosting': GradientBoostingClassifier(random_state=42, n_estimators=100),\n",
    "    'Support Vector Machine': SVC(random_state=42, probability=True)\n",
    "}\n",
    "\n",
    "# Model performanslarını saklama\n",
    "model_results = {}\n",
    "\n",
    "print(\"🚀 MODEL EĞİTİMİ VE DEĞERLENDİRMESİ:\")\n",
    "print(\"=\" * 50)\n",
    "\n",
    "for name, model in models.items():\n",
    "    print(f\"\\n🔄 {name} modeli eğitiliyor...\")\n",
    "    \n",
    "    # Cross-validation skorları\n",
    "    cv_scores = cross_val_score(model, X_train_scaled, y_train, cv=5, scoring='accuracy')\n",
    "    \n",
    "    # Modeli eğitme\n",
    "    model.fit(X_train_scaled, y_train)\n",
    "    \n",
    "    # Tahminler\n",
    "    y_pred = model.predict(X_test_scaled)\n",
    "    y_pred_proba = model.predict_proba(X_test_scaled)[:, 1]\n",
    "    \n",
    "    # Performans metrikleri\n",
    "    accuracy = accuracy_score(y_test, y_pred)\n",
    "    precision = precision_score(y_test, y_pred)\n",
    "    recall = recall_score(y_test, y_pred)\n",
    "    f1 = f1_score(y_test, y_pred)\n",
    "    auc = roc_auc_score(y_test, y_pred_proba)\n",
    "    \n",
    "    # Sonuçları kaydetme\n",
    "    model_results[name] = {\n",
    "        'model': model,\n",
    "        'cv_mean': cv_scores.mean(),\n",
    "        'cv_std': cv_scores.std(),\n",
    "        'accuracy': accuracy,\n",
    "        'precision': precision,\n",
    "        'recall': recall,\n",
    "        'f1_score': f1,\n",
    "        'roc_auc': auc,\n",
    "        'predictions': y_pred,\n",
    "        'probabilities': y_pred_proba\n",
    "    }\n",
    "    \n",
    "    print(f\"✅ {name} tamamlandı!\")\n",
    "    print(f\"   CV Accuracy: {cv_scores.mean():.3f} (±{cv_scores.std():.3f})\")\n",
    "    print(f\"   Test Accuracy: {accuracy:.3f}\")\n",
    "    print(f\"   ROC-AUC: {auc:.3f}\")\n",
    "\n",
    "# Sonuçları DataFrame olarak organize etme\n",
    "results_df = pd.DataFrame({\n",
    "    'Model': list(model_results.keys()),\n",
    "    'CV_Accuracy': [model_results[name]['cv_mean'] for name in model_results.keys()],\n",
    "    'CV_Std': [model_results[name]['cv_std'] for name in model_results.keys()],\n",
    "    'Test_Accuracy': [model_results[name]['accuracy'] for name in model_results.keys()],\n",
    "    'Precision': [model_results[name]['precision'] for name in model_results.keys()],\n",
    "    'Recall': [model_results[name]['recall'] for name in model_results.keys()],\n",
    "    'F1_Score': [model_results[name]['f1_score'] for name in model_results.keys()],\n",
    "    'ROC_AUC': [model_results[name]['roc_auc'] for name in model_results.keys()]\n",
    "})\n",
    "\n",
    "print(\"\\n📊 MODEL PERFORMANS KARŞILAŞTIRMASI:\")\n",
    "print(\"=\" * 50)\n",
    "display(results_df.round(3).sort_values('Test_Accuracy', ascending=False))"
   ]
  },
  {
   "cell_type": "code",
   "execution_count": 11,
   "id": "44d3b047",
   "metadata": {},
   "outputs": [
    {
     "name": "stdout",
     "output_type": "stream",
     "text": [
      "🏆 EN İYİ MODEL: Gradient Boosting\n",
      "Test Accuracy: 0.990\n"
     ]
    },
    {
     "data": {
      "application/vnd.plotly.v1+json": {
       "config": {
        "plotlyServerURL": "https://plot.ly"
       },
       "data": [
        {
         "marker": {
          "color": "lightblue"
         },
         "text": {
          "bdata": "hetRuB6F7z+F61G4HoXvP65H4XoUru8/CtejcD0K7z8=",
          "dtype": "f8"
         },
         "textposition": "auto",
         "type": "bar",
         "x": [
          "Logistic Regression",
          "Random Forest",
          "Gradient Boosting",
          "Support Vector Machine"
         ],
         "xaxis": "x",
         "y": {
          "bdata": "hetRuB6F7z+F61G4HoXvP65H4XoUru8/CtejcD0K7z8=",
          "dtype": "f8"
         },
         "yaxis": "y"
        },
        {
         "mode": "lines",
         "name": "Logistic Regression (AUC = 0.998)",
         "type": "scatter",
         "x": {
          "bdata": "AAAAAAAAAAAAAAAAAAAAAAAAAAAAAAAAGIZhGIZhiD8YhmEYhmGIPxiGYRiGYZg/GIZhGIZhmD8AAAAAAADwPw==",
          "dtype": "f8"
         },
         "xaxis": "x2",
         "y": {
          "bdata": "AAAAAAAAAACWexphuaeBP/c0wnJPI+w/9zTCck8j7D8jLPc0wnLvPyMs9zTCcu8/AAAAAAAA8D8AAAAAAADwPw==",
          "dtype": "f8"
         },
         "yaxis": "y2"
        },
        {
         "mode": "lines",
         "name": "Random Forest (AUC = 0.999)",
         "type": "scatter",
         "x": {
          "bdata": "AAAAAAAAAAAAAAAAAAAAAAAAAAAAAAAAAAAAAAAAAAAAAAAAAAAAAAAAAAAAAAAAAAAAAAAAAAAAAAAAAAAAAAAAAAAAAAAAAAAAAAAAAAAAAAAAAAAAAAAAAAAAAAAAAAAAAAAAAACe53me53muP5IkSZIkSbI/MQzDMAzDwD+3bdu2bdvGP3qe53me58k/27Zt27Ztyz+e53me53nOP5IkSZIkSdI/9DzP8zzP0z8lSZIkSZLUP0mSJEmSJNk/ep7neZ7n2T89z/M8z/PcPxiGYRiGYeA/27Zt27Zt4z9u27Zt27blPwAAAAAAAPA/",
          "dtype": "f8"
         },
         "xaxis": "x2",
         "y": {
          "bdata": "AAAAAAAAAAAaYbmnEZbLP/c0wnJPI9w/hOWeRlju4T98GmG5pxHmPwAAAAAAAOg/qBGWexph6T+E5Z5GWO7pP08jLPc0wuo/Ccs9jbDc6z/UCMs9jbDsP2qE5Z5GWO4/EpZ7GmG57z8SlnsaYbnvPwAAAAAAAPA/AAAAAAAA8D8AAAAAAADwPwAAAAAAAPA/AAAAAAAA8D8AAAAAAADwPwAAAAAAAPA/AAAAAAAA8D8AAAAAAADwPwAAAAAAAPA/AAAAAAAA8D8AAAAAAADwPwAAAAAAAPA/AAAAAAAA8D8AAAAAAADwPwAAAAAAAPA/",
          "dtype": "f8"
         },
         "yaxis": "y2"
        },
        {
         "mode": "lines",
         "name": "Gradient Boosting (AUC = 1.000)",
         "type": "scatter",
         "x": {
          "bdata": "AAAAAAAAAAAAAAAAAAAAAAAAAAAAAAAAGIZhGIZhiD8YhmEYhmGIP4ZhGIZhGOY/t23btm3b5j89z/M8z/PsP4ZhGIZhGO4/z/M8z/M87z8AAAAAAADwPw==",
          "dtype": "f8"
         },
         "xaxis": "x2",
         "y": {
          "bdata": "AAAAAAAAAACWexphuaeBP0dY7mmE5e4/R1juaYTl7j8AAAAAAADwPwAAAAAAAPA/AAAAAAAA8D8AAAAAAADwPwAAAAAAAPA/AAAAAAAA8D8AAAAAAADwPw==",
          "dtype": "f8"
         },
         "yaxis": "y2"
        },
        {
         "mode": "lines",
         "name": "Support Vector Machine (AUC = 0.998)",
         "type": "scatter",
         "x": {
          "bdata": "AAAAAAAAAAAAAAAAAAAAAAAAAAAAAAAAGIZhGIZhiD8YhmEYhmGIPxiGYRiGYag/GIZhGIZhqD+SJEmSJEmyP5IkSZIkSbI/AAAAAAAA8D8=",
          "dtype": "f8"
         },
         "xaxis": "x2",
         "y": {
          "bdata": "AAAAAAAAAACWexphuaeBP59GWO5phO0/n0ZY7mmE7T8jLPc0wnLvPyMs9zTCcu8/EpZ7GmG57z8SlnsaYbnvPwAAAAAAAPA/AAAAAAAA8D8=",
          "dtype": "f8"
         },
         "yaxis": "y2"
        },
        {
         "line": {
          "color": "black",
          "dash": "dash"
         },
         "mode": "lines",
         "name": "Random Classifier",
         "type": "scatter",
         "x": [
          0,
          1
         ],
         "xaxis": "x2",
         "y": [
          0,
          1
         ],
         "yaxis": "y2"
        },
        {
         "colorscale": [
          [
           0,
           "rgb(247,251,255)"
          ],
          [
           0.125,
           "rgb(222,235,247)"
          ],
          [
           0.25,
           "rgb(198,219,239)"
          ],
          [
           0.375,
           "rgb(158,202,225)"
          ],
          [
           0.5,
           "rgb(107,174,214)"
          ],
          [
           0.625,
           "rgb(66,146,198)"
          ],
          [
           0.75,
           "rgb(33,113,181)"
          ],
          [
           0.875,
           "rgb(8,81,156)"
          ],
          [
           1,
           "rgb(8,48,107)"
          ]
         ],
         "text": {
          "bdata": "UwEBcw==",
          "dtype": "i1",
          "shape": "2, 2"
         },
         "textfont": {
          "size": 16
         },
         "texttemplate": "%{text}",
         "type": "heatmap",
         "x": [
          "Sağlıklı",
          "Hastalık"
         ],
         "xaxis": "x3",
         "y": [
          "Sağlıklı",
          "Hastalık"
         ],
         "yaxis": "y3",
         "z": {
          "bdata": "UwEBcw==",
          "dtype": "i1",
          "shape": "2, 2"
         }
        },
        {
         "marker": {
          "color": "lightcoral"
         },
         "orientation": "h",
         "type": "bar",
         "x": {
          "bdata": "AAAAAAAAAAA2PnZkuOxzP+MfvV5ye3U/4uMCN8Y5ez8rS9hxqw+APxJNRcDdTIw/JrSYyRoOnD80j0mLBW6iP/MPcaeIsKQ/uxQTjIV+pT//aFrFk8GyPxwvXm7Vwuc/",
          "dtype": "f8"
         },
         "xaxis": "x4",
         "y": [
          "exercise_angina",
          "gender",
          "max_heart_rate",
          "age",
          "num_major_vessels",
          "fasting_blood_sugar",
          "resting_ecg",
          "oldpeak",
          "chest_pain_type",
          "serum_cholesterol",
          "resting_blood_pressure",
          "slope"
         ],
         "yaxis": "y4"
        }
       ],
       "layout": {
        "annotations": [
         {
          "font": {
           "size": 16
          },
          "showarrow": false,
          "text": "Model Accuracy Karşılaştırması",
          "x": 0.225,
          "xanchor": "center",
          "xref": "paper",
          "y": 1,
          "yanchor": "bottom",
          "yref": "paper"
         },
         {
          "font": {
           "size": 16
          },
          "showarrow": false,
          "text": "ROC Curves",
          "x": 0.775,
          "xanchor": "center",
          "xref": "paper",
          "y": 1,
          "yanchor": "bottom",
          "yref": "paper"
         },
         {
          "font": {
           "size": 16
          },
          "showarrow": false,
          "text": "Confusion Matrix (En İyi Model)",
          "x": 0.225,
          "xanchor": "center",
          "xref": "paper",
          "y": 0.375,
          "yanchor": "bottom",
          "yref": "paper"
         },
         {
          "font": {
           "size": 16
          },
          "showarrow": false,
          "text": "Feature Importance",
          "x": 0.775,
          "xanchor": "center",
          "xref": "paper",
          "y": 0.375,
          "yanchor": "bottom",
          "yref": "paper"
         }
        ],
        "height": 800,
        "template": {
         "data": {
          "bar": [
           {
            "error_x": {
             "color": "#2a3f5f"
            },
            "error_y": {
             "color": "#2a3f5f"
            },
            "marker": {
             "line": {
              "color": "#E5ECF6",
              "width": 0.5
             },
             "pattern": {
              "fillmode": "overlay",
              "size": 10,
              "solidity": 0.2
             }
            },
            "type": "bar"
           }
          ],
          "barpolar": [
           {
            "marker": {
             "line": {
              "color": "#E5ECF6",
              "width": 0.5
             },
             "pattern": {
              "fillmode": "overlay",
              "size": 10,
              "solidity": 0.2
             }
            },
            "type": "barpolar"
           }
          ],
          "carpet": [
           {
            "aaxis": {
             "endlinecolor": "#2a3f5f",
             "gridcolor": "white",
             "linecolor": "white",
             "minorgridcolor": "white",
             "startlinecolor": "#2a3f5f"
            },
            "baxis": {
             "endlinecolor": "#2a3f5f",
             "gridcolor": "white",
             "linecolor": "white",
             "minorgridcolor": "white",
             "startlinecolor": "#2a3f5f"
            },
            "type": "carpet"
           }
          ],
          "choropleth": [
           {
            "colorbar": {
             "outlinewidth": 0,
             "ticks": ""
            },
            "type": "choropleth"
           }
          ],
          "contour": [
           {
            "colorbar": {
             "outlinewidth": 0,
             "ticks": ""
            },
            "colorscale": [
             [
              0,
              "#0d0887"
             ],
             [
              0.1111111111111111,
              "#46039f"
             ],
             [
              0.2222222222222222,
              "#7201a8"
             ],
             [
              0.3333333333333333,
              "#9c179e"
             ],
             [
              0.4444444444444444,
              "#bd3786"
             ],
             [
              0.5555555555555556,
              "#d8576b"
             ],
             [
              0.6666666666666666,
              "#ed7953"
             ],
             [
              0.7777777777777778,
              "#fb9f3a"
             ],
             [
              0.8888888888888888,
              "#fdca26"
             ],
             [
              1,
              "#f0f921"
             ]
            ],
            "type": "contour"
           }
          ],
          "contourcarpet": [
           {
            "colorbar": {
             "outlinewidth": 0,
             "ticks": ""
            },
            "type": "contourcarpet"
           }
          ],
          "heatmap": [
           {
            "colorbar": {
             "outlinewidth": 0,
             "ticks": ""
            },
            "colorscale": [
             [
              0,
              "#0d0887"
             ],
             [
              0.1111111111111111,
              "#46039f"
             ],
             [
              0.2222222222222222,
              "#7201a8"
             ],
             [
              0.3333333333333333,
              "#9c179e"
             ],
             [
              0.4444444444444444,
              "#bd3786"
             ],
             [
              0.5555555555555556,
              "#d8576b"
             ],
             [
              0.6666666666666666,
              "#ed7953"
             ],
             [
              0.7777777777777778,
              "#fb9f3a"
             ],
             [
              0.8888888888888888,
              "#fdca26"
             ],
             [
              1,
              "#f0f921"
             ]
            ],
            "type": "heatmap"
           }
          ],
          "histogram": [
           {
            "marker": {
             "pattern": {
              "fillmode": "overlay",
              "size": 10,
              "solidity": 0.2
             }
            },
            "type": "histogram"
           }
          ],
          "histogram2d": [
           {
            "colorbar": {
             "outlinewidth": 0,
             "ticks": ""
            },
            "colorscale": [
             [
              0,
              "#0d0887"
             ],
             [
              0.1111111111111111,
              "#46039f"
             ],
             [
              0.2222222222222222,
              "#7201a8"
             ],
             [
              0.3333333333333333,
              "#9c179e"
             ],
             [
              0.4444444444444444,
              "#bd3786"
             ],
             [
              0.5555555555555556,
              "#d8576b"
             ],
             [
              0.6666666666666666,
              "#ed7953"
             ],
             [
              0.7777777777777778,
              "#fb9f3a"
             ],
             [
              0.8888888888888888,
              "#fdca26"
             ],
             [
              1,
              "#f0f921"
             ]
            ],
            "type": "histogram2d"
           }
          ],
          "histogram2dcontour": [
           {
            "colorbar": {
             "outlinewidth": 0,
             "ticks": ""
            },
            "colorscale": [
             [
              0,
              "#0d0887"
             ],
             [
              0.1111111111111111,
              "#46039f"
             ],
             [
              0.2222222222222222,
              "#7201a8"
             ],
             [
              0.3333333333333333,
              "#9c179e"
             ],
             [
              0.4444444444444444,
              "#bd3786"
             ],
             [
              0.5555555555555556,
              "#d8576b"
             ],
             [
              0.6666666666666666,
              "#ed7953"
             ],
             [
              0.7777777777777778,
              "#fb9f3a"
             ],
             [
              0.8888888888888888,
              "#fdca26"
             ],
             [
              1,
              "#f0f921"
             ]
            ],
            "type": "histogram2dcontour"
           }
          ],
          "mesh3d": [
           {
            "colorbar": {
             "outlinewidth": 0,
             "ticks": ""
            },
            "type": "mesh3d"
           }
          ],
          "parcoords": [
           {
            "line": {
             "colorbar": {
              "outlinewidth": 0,
              "ticks": ""
             }
            },
            "type": "parcoords"
           }
          ],
          "pie": [
           {
            "automargin": true,
            "type": "pie"
           }
          ],
          "scatter": [
           {
            "fillpattern": {
             "fillmode": "overlay",
             "size": 10,
             "solidity": 0.2
            },
            "type": "scatter"
           }
          ],
          "scatter3d": [
           {
            "line": {
             "colorbar": {
              "outlinewidth": 0,
              "ticks": ""
             }
            },
            "marker": {
             "colorbar": {
              "outlinewidth": 0,
              "ticks": ""
             }
            },
            "type": "scatter3d"
           }
          ],
          "scattercarpet": [
           {
            "marker": {
             "colorbar": {
              "outlinewidth": 0,
              "ticks": ""
             }
            },
            "type": "scattercarpet"
           }
          ],
          "scattergeo": [
           {
            "marker": {
             "colorbar": {
              "outlinewidth": 0,
              "ticks": ""
             }
            },
            "type": "scattergeo"
           }
          ],
          "scattergl": [
           {
            "marker": {
             "colorbar": {
              "outlinewidth": 0,
              "ticks": ""
             }
            },
            "type": "scattergl"
           }
          ],
          "scattermap": [
           {
            "marker": {
             "colorbar": {
              "outlinewidth": 0,
              "ticks": ""
             }
            },
            "type": "scattermap"
           }
          ],
          "scattermapbox": [
           {
            "marker": {
             "colorbar": {
              "outlinewidth": 0,
              "ticks": ""
             }
            },
            "type": "scattermapbox"
           }
          ],
          "scatterpolar": [
           {
            "marker": {
             "colorbar": {
              "outlinewidth": 0,
              "ticks": ""
             }
            },
            "type": "scatterpolar"
           }
          ],
          "scatterpolargl": [
           {
            "marker": {
             "colorbar": {
              "outlinewidth": 0,
              "ticks": ""
             }
            },
            "type": "scatterpolargl"
           }
          ],
          "scatterternary": [
           {
            "marker": {
             "colorbar": {
              "outlinewidth": 0,
              "ticks": ""
             }
            },
            "type": "scatterternary"
           }
          ],
          "surface": [
           {
            "colorbar": {
             "outlinewidth": 0,
             "ticks": ""
            },
            "colorscale": [
             [
              0,
              "#0d0887"
             ],
             [
              0.1111111111111111,
              "#46039f"
             ],
             [
              0.2222222222222222,
              "#7201a8"
             ],
             [
              0.3333333333333333,
              "#9c179e"
             ],
             [
              0.4444444444444444,
              "#bd3786"
             ],
             [
              0.5555555555555556,
              "#d8576b"
             ],
             [
              0.6666666666666666,
              "#ed7953"
             ],
             [
              0.7777777777777778,
              "#fb9f3a"
             ],
             [
              0.8888888888888888,
              "#fdca26"
             ],
             [
              1,
              "#f0f921"
             ]
            ],
            "type": "surface"
           }
          ],
          "table": [
           {
            "cells": {
             "fill": {
              "color": "#EBF0F8"
             },
             "line": {
              "color": "white"
             }
            },
            "header": {
             "fill": {
              "color": "#C8D4E3"
             },
             "line": {
              "color": "white"
             }
            },
            "type": "table"
           }
          ]
         },
         "layout": {
          "annotationdefaults": {
           "arrowcolor": "#2a3f5f",
           "arrowhead": 0,
           "arrowwidth": 1
          },
          "autotypenumbers": "strict",
          "coloraxis": {
           "colorbar": {
            "outlinewidth": 0,
            "ticks": ""
           }
          },
          "colorscale": {
           "diverging": [
            [
             0,
             "#8e0152"
            ],
            [
             0.1,
             "#c51b7d"
            ],
            [
             0.2,
             "#de77ae"
            ],
            [
             0.3,
             "#f1b6da"
            ],
            [
             0.4,
             "#fde0ef"
            ],
            [
             0.5,
             "#f7f7f7"
            ],
            [
             0.6,
             "#e6f5d0"
            ],
            [
             0.7,
             "#b8e186"
            ],
            [
             0.8,
             "#7fbc41"
            ],
            [
             0.9,
             "#4d9221"
            ],
            [
             1,
             "#276419"
            ]
           ],
           "sequential": [
            [
             0,
             "#0d0887"
            ],
            [
             0.1111111111111111,
             "#46039f"
            ],
            [
             0.2222222222222222,
             "#7201a8"
            ],
            [
             0.3333333333333333,
             "#9c179e"
            ],
            [
             0.4444444444444444,
             "#bd3786"
            ],
            [
             0.5555555555555556,
             "#d8576b"
            ],
            [
             0.6666666666666666,
             "#ed7953"
            ],
            [
             0.7777777777777778,
             "#fb9f3a"
            ],
            [
             0.8888888888888888,
             "#fdca26"
            ],
            [
             1,
             "#f0f921"
            ]
           ],
           "sequentialminus": [
            [
             0,
             "#0d0887"
            ],
            [
             0.1111111111111111,
             "#46039f"
            ],
            [
             0.2222222222222222,
             "#7201a8"
            ],
            [
             0.3333333333333333,
             "#9c179e"
            ],
            [
             0.4444444444444444,
             "#bd3786"
            ],
            [
             0.5555555555555556,
             "#d8576b"
            ],
            [
             0.6666666666666666,
             "#ed7953"
            ],
            [
             0.7777777777777778,
             "#fb9f3a"
            ],
            [
             0.8888888888888888,
             "#fdca26"
            ],
            [
             1,
             "#f0f921"
            ]
           ]
          },
          "colorway": [
           "#636efa",
           "#EF553B",
           "#00cc96",
           "#ab63fa",
           "#FFA15A",
           "#19d3f3",
           "#FF6692",
           "#B6E880",
           "#FF97FF",
           "#FECB52"
          ],
          "font": {
           "color": "#2a3f5f"
          },
          "geo": {
           "bgcolor": "white",
           "lakecolor": "white",
           "landcolor": "#E5ECF6",
           "showlakes": true,
           "showland": true,
           "subunitcolor": "white"
          },
          "hoverlabel": {
           "align": "left"
          },
          "hovermode": "closest",
          "mapbox": {
           "style": "light"
          },
          "paper_bgcolor": "white",
          "plot_bgcolor": "#E5ECF6",
          "polar": {
           "angularaxis": {
            "gridcolor": "white",
            "linecolor": "white",
            "ticks": ""
           },
           "bgcolor": "#E5ECF6",
           "radialaxis": {
            "gridcolor": "white",
            "linecolor": "white",
            "ticks": ""
           }
          },
          "scene": {
           "xaxis": {
            "backgroundcolor": "#E5ECF6",
            "gridcolor": "white",
            "gridwidth": 2,
            "linecolor": "white",
            "showbackground": true,
            "ticks": "",
            "zerolinecolor": "white"
           },
           "yaxis": {
            "backgroundcolor": "#E5ECF6",
            "gridcolor": "white",
            "gridwidth": 2,
            "linecolor": "white",
            "showbackground": true,
            "ticks": "",
            "zerolinecolor": "white"
           },
           "zaxis": {
            "backgroundcolor": "#E5ECF6",
            "gridcolor": "white",
            "gridwidth": 2,
            "linecolor": "white",
            "showbackground": true,
            "ticks": "",
            "zerolinecolor": "white"
           }
          },
          "shapedefaults": {
           "line": {
            "color": "#2a3f5f"
           }
          },
          "ternary": {
           "aaxis": {
            "gridcolor": "white",
            "linecolor": "white",
            "ticks": ""
           },
           "baxis": {
            "gridcolor": "white",
            "linecolor": "white",
            "ticks": ""
           },
           "bgcolor": "#E5ECF6",
           "caxis": {
            "gridcolor": "white",
            "linecolor": "white",
            "ticks": ""
           }
          },
          "title": {
           "x": 0.05
          },
          "xaxis": {
           "automargin": true,
           "gridcolor": "white",
           "linecolor": "white",
           "ticks": "",
           "title": {
            "standoff": 15
           },
           "zerolinecolor": "white",
           "zerolinewidth": 2
          },
          "yaxis": {
           "automargin": true,
           "gridcolor": "white",
           "linecolor": "white",
           "ticks": "",
           "title": {
            "standoff": 15
           },
           "zerolinecolor": "white",
           "zerolinewidth": 2
          }
         }
        },
        "title": {
         "text": "📊 Kapsamlı Model Analizi Dashboard"
        },
        "xaxis": {
         "anchor": "y",
         "domain": [
          0,
          0.45
         ]
        },
        "xaxis2": {
         "anchor": "y2",
         "domain": [
          0.55,
          1
         ]
        },
        "xaxis3": {
         "anchor": "y3",
         "domain": [
          0,
          0.45
         ]
        },
        "xaxis4": {
         "anchor": "y4",
         "domain": [
          0.55,
          1
         ]
        },
        "yaxis": {
         "anchor": "x",
         "domain": [
          0.625,
          1
         ]
        },
        "yaxis2": {
         "anchor": "x2",
         "domain": [
          0.625,
          1
         ]
        },
        "yaxis3": {
         "anchor": "x3",
         "domain": [
          0,
          0.375
         ]
        },
        "yaxis4": {
         "anchor": "x4",
         "domain": [
          0,
          0.375
         ]
        }
       }
      }
     },
     "metadata": {},
     "output_type": "display_data"
    },
    {
     "name": "stdout",
     "output_type": "stream",
     "text": [
      "\n",
      "📋 Gradient Boosting DETAYLI PERFORMANS RAPORU:\n",
      "==================================================\n",
      "                         precision    recall  f1-score   support\n",
      "\n",
      "               Sağlıklı       0.99      0.99      0.99        84\n",
      "Cardiovascular Hastalık       0.99      0.99      0.99       116\n",
      "\n",
      "               accuracy                           0.99       200\n",
      "              macro avg       0.99      0.99      0.99       200\n",
      "           weighted avg       0.99      0.99      0.99       200\n",
      "\n",
      "\n",
      "🎯 CONFUSION MATRIX ANALİZİ:\n",
      "===================================\n",
      "True Negatives (Doğru Sağlıklı): 83\n",
      "False Positives (Yanlış Hastalık): 1\n",
      "False Negatives (Kaçırılan Hastalık): 1\n",
      "True Positives (Doğru Hastalık): 115\n",
      "\n",
      "📊 EK METRİKLER:\n",
      "Sensitivity (Recall): 0.991\n",
      "Specificity: 0.988\n",
      "NPV (Negative Predictive Value): 0.988\n",
      "PPV (Positive Predictive Value): 0.991\n"
     ]
    }
   ],
   "source": [
    "# 📈 Model Performans Görselleştirmeleri\n",
    "\n",
    "# En iyi modeli belirleme\n",
    "best_model_name = results_df.loc[results_df['Test_Accuracy'].idxmax(), 'Model']\n",
    "best_model = model_results[best_model_name]['model']\n",
    "\n",
    "print(f\"🏆 EN İYİ MODEL: {best_model_name}\")\n",
    "print(f\"Test Accuracy: {model_results[best_model_name]['accuracy']:.3f}\")\n",
    "\n",
    "# 1. Model Karşılaştırma Bar Chart\n",
    "fig = make_subplots(\n",
    "    rows=2, cols=2,\n",
    "    subplot_titles=('Model Accuracy Karşılaştırması', 'ROC Curves', \n",
    "                   'Confusion Matrix (En İyi Model)', 'Feature Importance'),\n",
    "    specs=[[{\"type\": \"bar\"}, {\"type\": \"scatter\"}],\n",
    "           [{\"type\": \"heatmap\"}, {\"type\": \"bar\"}]]\n",
    ")\n",
    "\n",
    "# Accuracy karşılaştırması\n",
    "fig.add_trace(\n",
    "    go.Bar(x=results_df['Model'], y=results_df['Test_Accuracy'],\n",
    "           marker_color='lightblue', text=results_df['Test_Accuracy'].round(3),\n",
    "           textposition='auto'),\n",
    "    row=1, col=1\n",
    ")\n",
    "\n",
    "# ROC Curves\n",
    "for name in model_results.keys():\n",
    "    fpr, tpr, _ = roc_curve(y_test, model_results[name]['probabilities'])\n",
    "    auc_score = model_results[name]['roc_auc']\n",
    "    fig.add_trace(\n",
    "        go.Scatter(x=fpr, y=tpr, mode='lines',\n",
    "                  name=f'{name} (AUC = {auc_score:.3f})'),\n",
    "        row=1, col=2\n",
    "    )\n",
    "\n",
    "# Diagonal line for ROC\n",
    "fig.add_trace(\n",
    "    go.Scatter(x=[0, 1], y=[0, 1], mode='lines', \n",
    "              line=dict(dash='dash', color='black'),\n",
    "              name='Random Classifier'),\n",
    "    row=1, col=2\n",
    ")\n",
    "\n",
    "# Confusion Matrix (En iyi model için)\n",
    "cm = confusion_matrix(y_test, model_results[best_model_name]['predictions'])\n",
    "fig.add_trace(\n",
    "    go.Heatmap(z=cm, x=['Sağlıklı', 'Hastalık'], y=['Sağlıklı', 'Hastalık'],\n",
    "               colorscale='Blues', text=cm, texttemplate=\"%{text}\",\n",
    "               textfont={\"size\": 16}),\n",
    "    row=2, col=1\n",
    ")\n",
    "\n",
    "# Feature Importance (RandomForest için)\n",
    "if hasattr(best_model, 'feature_importances_'):\n",
    "    feature_imp = pd.DataFrame({\n",
    "        'feature': X.columns,\n",
    "        'importance': best_model.feature_importances_\n",
    "    }).sort_values('importance', ascending=True)\n",
    "    \n",
    "    fig.add_trace(\n",
    "        go.Bar(x=feature_imp['importance'], y=feature_imp['feature'],\n",
    "               orientation='h', marker_color='lightcoral'),\n",
    "        row=2, col=2\n",
    "    )\n",
    "\n",
    "fig.update_layout(height=800, title_text=\"📊 Kapsamlı Model Analizi Dashboard\")\n",
    "fig.show()\n",
    "\n",
    "# Detaylı performans raporu\n",
    "print(f\"\\n📋 {best_model_name} DETAYLI PERFORMANS RAPORU:\")\n",
    "print(\"=\" * 50)\n",
    "print(classification_report(y_test, model_results[best_model_name]['predictions'],\n",
    "                          target_names=['Sağlıklı', 'Cardiovascular Hastalık']))\n",
    "\n",
    "# Confusion Matrix analizi\n",
    "tn, fp, fn, tp = cm.ravel()\n",
    "print(f\"\\n🎯 CONFUSION MATRIX ANALİZİ:\")\n",
    "print(\"=\" * 35)\n",
    "print(f\"True Negatives (Doğru Sağlıklı): {tn}\")\n",
    "print(f\"False Positives (Yanlış Hastalık): {fp}\")\n",
    "print(f\"False Negatives (Kaçırılan Hastalık): {fn}\")\n",
    "print(f\"True Positives (Doğru Hastalık): {tp}\")\n",
    "\n",
    "specificity = tn / (tn + fp)\n",
    "sensitivity = tp / (tp + fn)\n",
    "print(f\"\\n📊 EK METRİKLER:\")\n",
    "print(f\"Sensitivity (Recall): {sensitivity:.3f}\")\n",
    "print(f\"Specificity: {specificity:.3f}\")\n",
    "print(f\"NPV (Negative Predictive Value): {tn/(tn+fn):.3f}\")\n",
    "print(f\"PPV (Positive Predictive Value): {tp/(tp+fp):.3f}\")"
   ]
  },
  {
   "cell_type": "markdown",
   "id": "604e2913",
   "metadata": {},
   "source": [
    "## 🚀 PACE Aşama 4: EXECUTE (Uygulama)\n",
    "\n",
    "### 🌐 Flask Web Uygulaması Entegrasyonu"
   ]
  },
  {
   "cell_type": "code",
   "execution_count": 12,
   "id": "4251b1dc",
   "metadata": {},
   "outputs": [
    {
     "name": "stdout",
     "output_type": "stream",
     "text": [
      "✅ Model ve metadata başarıyla kaydedildi!\n",
      "📁 Model dosyası: cardiovascular_model.pkl\n",
      "📋 Metadata dosyası: model_metadata.json\n",
      "\n",
      "🧪 TEST TAHMİNİ:\n",
      "==============================\n",
      "Risk Sınıfı: Cardiovascular Hastalık\n",
      "Risk Skoru: %98.3\n",
      "Sağlıklı Olasılığı: %1.7\n",
      "Hastalık Olasılığı: %98.3\n"
     ]
    }
   ],
   "source": [
    "# 💾 Model ve Preprocessing Pipeline Kaydetme\n",
    "\n",
    "import joblib\n",
    "import json\n",
    "\n",
    "# En iyi modeli ve scaler'ı kaydetme\n",
    "model_files = {\n",
    "    'best_model': best_model,\n",
    "    'scaler': scaler,\n",
    "    'feature_names': list(X.columns),\n",
    "    'numerical_features': numerical_features,\n",
    "    'categorical_features': categorical_features\n",
    "}\n",
    "\n",
    "# Model dosyalarını kaydetme\n",
    "joblib.dump(model_files, '/Users/erencice/Downloads/cardiovascular_model.pkl')\n",
    "\n",
    "# Model metadata kaydetme\n",
    "model_metadata = {\n",
    "    'best_model_name': best_model_name,\n",
    "    'test_accuracy': float(model_results[best_model_name]['accuracy']),\n",
    "    'roc_auc': float(model_results[best_model_name]['roc_auc']),\n",
    "    'f1_score': float(model_results[best_model_name]['f1_score']),\n",
    "    'feature_names': list(X.columns),\n",
    "    'target_classes': ['Sağlıklı', 'Cardiovascular Hastalık'],\n",
    "    'model_version': '1.0',\n",
    "    'training_date': '2025-07-03'\n",
    "}\n",
    "\n",
    "with open('/Users/erencice/Downloads/model_metadata.json', 'w', encoding='utf-8') as f:\n",
    "    json.dump(model_metadata, f, ensure_ascii=False, indent=2)\n",
    "\n",
    "print(\"✅ Model ve metadata başarıyla kaydedildi!\")\n",
    "print(f\"📁 Model dosyası: cardiovascular_model.pkl\")\n",
    "print(f\"📋 Metadata dosyası: model_metadata.json\")\n",
    "\n",
    "# Test tahmin fonksiyonu\n",
    "def predict_cardiovascular_risk(patient_data):\n",
    "    \"\"\"\n",
    "    Hasta verilerini alıp cardiovascular hastalık riskini tahmin eder\n",
    "    \"\"\"\n",
    "    # Veriyi DataFrame'e çevirme\n",
    "    input_df = pd.DataFrame([patient_data])\n",
    "    \n",
    "    # Sayısal özellikleri ölçeklendirme\n",
    "    input_scaled = input_df.copy()\n",
    "    input_scaled[numerical_features] = scaler.transform(input_df[numerical_features])\n",
    "    \n",
    "    # Tahmin yapma\n",
    "    prediction = best_model.predict(input_scaled)[0]\n",
    "    probability = best_model.predict_proba(input_scaled)[0]\n",
    "    \n",
    "    return {\n",
    "        'prediction': int(prediction),\n",
    "        'risk_class': 'Cardiovascular Hastalık' if prediction == 1 else 'Sağlıklı',\n",
    "        'probability_healthy': float(probability[0]),\n",
    "        'probability_disease': float(probability[1]),\n",
    "        'risk_score': float(probability[1] * 100)\n",
    "    }\n",
    "\n",
    "# Test verisi ile deneme\n",
    "sample_patient = {\n",
    "    'age': 55,\n",
    "    'gender': 1,  # Erkek\n",
    "    'chest_pain_type': 2,\n",
    "    'resting_blood_pressure': 140,\n",
    "    'serum_cholesterol': 240,\n",
    "    'fasting_blood_sugar': 0,\n",
    "    'resting_ecg': 1,\n",
    "    'max_heart_rate': 150,\n",
    "    'exercise_angina': 0,\n",
    "    'oldpeak': 2.5,\n",
    "    'slope': 2,\n",
    "    'num_major_vessels': 1\n",
    "}\n",
    "\n",
    "test_result = predict_cardiovascular_risk(sample_patient)\n",
    "print(f\"\\n🧪 TEST TAHMİNİ:\")\n",
    "print(\"=\" * 30)\n",
    "print(f\"Risk Sınıfı: {test_result['risk_class']}\")\n",
    "print(f\"Risk Skoru: %{test_result['risk_score']:.1f}\")\n",
    "print(f\"Sağlıklı Olasılığı: %{test_result['probability_healthy']*100:.1f}\")\n",
    "print(f\"Hastalık Olasılığı: %{test_result['probability_disease']*100:.1f}\")"
   ]
  },
  {
   "cell_type": "code",
   "execution_count": null,
   "id": "a9a352c8",
   "metadata": {},
   "outputs": [
    {
     "name": "stdout",
     "output_type": "stream",
     "text": [
      "✅ Flask uygulaması (app.py) oluşturuldu!\n",
      "✅ HTML template (templates/index.html) oluşturuldu!\n",
      "✅ Requirements.txt oluşturuldu!\n",
      "\n",
      "🚀 FLASK UYGULAMASI HAZIR!\n",
      "========================================\n",
      "📁 Oluşturulan dosyalar:\n",
      "   • app.py (Flask uygulaması)\n",
      "   • templates/index.html (Web arayüzü)\n",
      "   • cardiovascular_model.pkl (Eğitilmiş model)\n",
      "   • model_metadata.json (Model bilgileri)\n",
      "   • requirements.txt (Gerekli kütüphaneler)\n",
      "\n",
      "🔧 Çalıştırma talimatları:\n",
      "   1. pip install -r requirements.txt\n",
      "   2. python app.py\n",
      "   3. http://localhost:5000 adresine gidin\n"
     ]
    }
   ],
   "source": [
    "# 🌐 Flask Web Uygulaması Kodu Oluşturma\n",
    "\n",
    "flask_app_code = '''\n",
    "from flask import Flask, render_template, request, jsonify\n",
    "import joblib\n",
    "import pandas as pd\n",
    "import numpy as np\n",
    "import json\n",
    "\n",
    "app = Flask(__name__)\n",
    "\n",
    "# Model ve preprocessing pipeline yükleme\n",
    "model_data = joblib.load('cardiovascular_model.pkl')\n",
    "best_model = model_data['best_model']\n",
    "scaler = model_data['scaler']\n",
    "feature_names = model_data['feature_names']\n",
    "numerical_features = model_data['numerical_features']\n",
    "\n",
    "# Metadata yükleme\n",
    "with open('model_metadata.json', 'r', encoding='utf-8') as f:\n",
    "    metadata = json.load(f)\n",
    "\n",
    "def predict_cardiovascular_risk(patient_data):\n",
    "    \"\"\"Cardiovascular hastalık risk tahmini\"\"\"\n",
    "    try:\n",
    "        # Veriyi DataFrame'e çevirme\n",
    "        input_df = pd.DataFrame([patient_data])\n",
    "        \n",
    "        # Sayısal özellikleri ölçeklendirme\n",
    "        input_scaled = input_df.copy()\n",
    "        input_scaled[numerical_features] = scaler.transform(input_df[numerical_features])\n",
    "        \n",
    "        # Tahmin yapma\n",
    "        prediction = best_model.predict(input_scaled)[0]\n",
    "        probability = best_model.predict_proba(input_scaled)[0]\n",
    "        \n",
    "        return {\n",
    "            'success': True,\n",
    "            'prediction': int(prediction),\n",
    "            'risk_class': 'Cardiovascular Hastalık' if prediction == 1 else 'Sağlıklı',\n",
    "            'probability_healthy': float(probability[0]),\n",
    "            'probability_disease': float(probability[1]),\n",
    "            'risk_score': float(probability[1] * 100)\n",
    "        }\n",
    "    except Exception as e:\n",
    "        return {'success': False, 'error': str(e)}\n",
    "\n",
    "@app.route('/')\n",
    "def home():\n",
    "    return render_template('index.html', metadata=metadata)\n",
    "\n",
    "@app.route('/predict', methods=['POST'])\n",
    "def predict():\n",
    "    try:\n",
    "        # Form verilerini alma\n",
    "        patient_data = {\n",
    "            'age': float(request.form['age']),\n",
    "            'gender': int(request.form['gender']),\n",
    "            'chest_pain_type': int(request.form['chest_pain_type']),\n",
    "            'resting_blood_pressure': float(request.form['resting_blood_pressure']),\n",
    "            'serum_cholesterol': float(request.form['serum_cholesterol']),\n",
    "            'fasting_blood_sugar': int(request.form['fasting_blood_sugar']),\n",
    "            'resting_ecg': int(request.form['resting_ecg']),\n",
    "            'max_heart_rate': float(request.form['max_heart_rate']),\n",
    "            'exercise_angina': int(request.form['exercise_angina']),\n",
    "            'oldpeak': float(request.form['oldpeak']),\n",
    "            'slope': int(request.form['slope']),\n",
    "            'num_major_vessels': int(request.form['num_major_vessels'])\n",
    "        }\n",
    "        \n",
    "        result = predict_cardiovascular_risk(patient_data)\n",
    "        return jsonify(result)\n",
    "        \n",
    "    except Exception as e:\n",
    "        return jsonify({'success': False, 'error': str(e)})\n",
    "\n",
    "@app.route('/api/model-info')\n",
    "def model_info():\n",
    "    return jsonify(metadata)\n",
    "\n",
    "if __name__ == '__main__':\n",
    "    app.run(debug=True, host='0.0.0.0', port=5000)\n",
    "'''\n",
    "\n",
    "# Flask app dosyasını kaydetme\n",
    "with open('/Users/erencice/Downloads/app.py', 'w', encoding='utf-8') as f:\n",
    "    f.write(flask_app_code)\n",
    "\n",
    "print(\"✅ Flask uygulaması (app.py) oluşturuldu!\")\n",
    "\n",
    "# HTML template oluşturma\n",
    "html_template = '''\n",
    "<!DOCTYPE html>\n",
    "<html lang=\"tr\">\n",
    "<head>\n",
    "    <meta charset=\"UTF-8\">\n",
    "    <meta name=\"viewport\" content=\"width=device-width, initial-scale=1.0\">\n",
    "    <title>🫀 Cardiovascular Hastalık Risk Tahmini</title>\n",
    "    <link href=\"https://cdn.jsdelivr.net/npm/bootstrap@5.1.3/dist/css/bootstrap.min.css\" rel=\"stylesheet\">\n",
    "    <link href=\"https://cdnjs.cloudflare.com/ajax/libs/font-awesome/6.0.0/css/all.min.css\" rel=\"stylesheet\">\n",
    "    <style>\n",
    "        body { background: linear-gradient(135deg, #667eea 0%, #764ba2 100%); min-height: 100vh; }\n",
    "        .card { box-shadow: 0 10px 30px rgba(0,0,0,0.3); border: none; border-radius: 15px; }\n",
    "        .form-control { border-radius: 10px; }\n",
    "        .btn-primary { background: linear-gradient(45deg, #FF6B6B, #4ECDC4); border: none; border-radius: 25px; }\n",
    "        .btn-primary:hover { transform: translateY(-2px); box-shadow: 0 5px 15px rgba(0,0,0,0.3); }\n",
    "        .result-card { margin-top: 20px; }\n",
    "        .risk-high { background: linear-gradient(45deg, #FF6B6B, #FF8E53); color: white; }\n",
    "        .risk-low { background: linear-gradient(45deg, #4ECDC4, #44A08D); color: white; }\n",
    "    </style>\n",
    "</head>\n",
    "<body>\n",
    "    <div class=\"container mt-5\">\n",
    "        <div class=\"row justify-content-center\">\n",
    "            <div class=\"col-lg-8\">\n",
    "                <div class=\"card\">\n",
    "                    <div class=\"card-body p-5\">\n",
    "                        <div class=\"text-center mb-4\">\n",
    "                            <h1 class=\"display-4\"><i class=\"fas fa-heartbeat text-danger\"></i> Cardiovascular Risk</h1>\n",
    "                            <p class=\"lead\">PACE Metodolojisi ile Geliştirilmiş AI Tahmin Sistemi</p>\n",
    "                            <small class=\"text-muted\">Model: {{ metadata.best_model_name }} | Accuracy: {{ \"%.1f\"|format(metadata.test_accuracy * 100) }}%</small>\n",
    "                        </div>\n",
    "                        \n",
    "                        <form id=\"predictionForm\">\n",
    "                            <div class=\"row\">\n",
    "                                <div class=\"col-md-6 mb-3\">\n",
    "                                    <label class=\"form-label\"><i class=\"fas fa-birthday-cake\"></i> Yaş</label>\n",
    "                                    <input type=\"number\" class=\"form-control\" name=\"age\" min=\"20\" max=\"80\" required>\n",
    "                                </div>\n",
    "                                <div class=\"col-md-6 mb-3\">\n",
    "                                    <label class=\"form-label\"><i class=\"fas fa-venus-mars\"></i> Cinsiyet</label>\n",
    "                                    <select class=\"form-control\" name=\"gender\" required>\n",
    "                                        <option value=\"\">Seçiniz</option>\n",
    "                                        <option value=\"0\">Kadın</option>\n",
    "                                        <option value=\"1\">Erkek</option>\n",
    "                                    </select>\n",
    "                                </div>\n",
    "                                <div class=\"col-md-6 mb-3\">\n",
    "                                    <label class=\"form-label\"><i class=\"fas fa-heart\"></i> Göğüs Ağrısı Tipi</label>\n",
    "                                    <select class=\"form-control\" name=\"chest_pain_type\" required>\n",
    "                                        <option value=\"\">Seçiniz</option>\n",
    "                                        <option value=\"0\">Tipik Anjina</option>\n",
    "                                        <option value=\"1\">Atipik Anjina</option>\n",
    "                                        <option value=\"2\">Anjina Dışı</option>\n",
    "                                        <option value=\"3\">Asemptomatik</option>\n",
    "                                    </select>\n",
    "                                </div>\n",
    "                                <div class=\"col-md-6 mb-3\">\n",
    "                                    <label class=\"form-label\"><i class=\"fas fa-tachometer-alt\"></i> Dinlenik Kan Basıncı</label>\n",
    "                                    <input type=\"number\" class=\"form-control\" name=\"resting_blood_pressure\" min=\"90\" max=\"200\" required>\n",
    "                                </div>\n",
    "                                <div class=\"col-md-6 mb-3\">\n",
    "                                    <label class=\"form-label\"><i class=\"fas fa-vial\"></i> Serum Kolesterol</label>\n",
    "                                    <input type=\"number\" class=\"form-control\" name=\"serum_cholesterol\" min=\"100\" max=\"400\" required>\n",
    "                                </div>\n",
    "                                <div class=\"col-md-6 mb-3\">\n",
    "                                    <label class=\"form-label\"><i class=\"fas fa-cube\"></i> Açlık Kan Şekeri (>120)</label>\n",
    "                                    <select class=\"form-control\" name=\"fasting_blood_sugar\" required>\n",
    "                                        <option value=\"\">Seçiniz</option>\n",
    "                                        <option value=\"0\">Hayır</option>\n",
    "                                        <option value=\"1\">Evet</option>\n",
    "                                    </select>\n",
    "                                </div>\n",
    "                                <div class=\"col-md-6 mb-3\">\n",
    "                                    <label class=\"form-label\"><i class=\"fas fa-wave-square\"></i> Dinlenik EKG</label>\n",
    "                                    <select class=\"form-control\" name=\"resting_ecg\" required>\n",
    "                                        <option value=\"\">Seçiniz</option>\n",
    "                                        <option value=\"0\">Normal</option>\n",
    "                                        <option value=\"1\">ST-T Anormalliği</option>\n",
    "                                        <option value=\"2\">Sol Ventrikül Hipertrofisi</option>\n",
    "                                    </select>\n",
    "                                </div>\n",
    "                                <div class=\"col-md-6 mb-3\">\n",
    "                                    <label class=\"form-label\"><i class=\"fas fa-heartbeat\"></i> Maksimum Kalp Hızı</label>\n",
    "                                    <input type=\"number\" class=\"form-control\" name=\"max_heart_rate\" min=\"70\" max=\"220\" required>\n",
    "                                </div>\n",
    "                                <div class=\"col-md-6 mb-3\">\n",
    "                                    <label class=\"form-label\"><i class=\"fas fa-running\"></i> Egzersiz Anginası</label>\n",
    "                                    <select class=\"form-control\" name=\"exercise_angina\" required>\n",
    "                                        <option value=\"\">Seçiniz</option>\n",
    "                                        <option value=\"0\">Hayır</option>\n",
    "                                        <option value=\"1\">Evet</option>\n",
    "                                    </select>\n",
    "                                </div>\n",
    "                                <div class=\"col-md-6 mb-3\">\n",
    "                                    <label class=\"form-label\"><i class=\"fas fa-chart-line\"></i> ST Depresyonu (Oldpeak)</label>\n",
    "                                    <input type=\"number\" class=\"form-control\" name=\"oldpeak\" min=\"0\" max=\"7\" step=\"0.1\" required>\n",
    "                                </div>\n",
    "                                <div class=\"col-md-6 mb-3\">\n",
    "                                    <label class=\"form-label\"><i class=\"fas fa-angle-up\"></i> ST Segmenti Eğimi</label>\n",
    "                                    <select class=\"form-control\" name=\"slope\" required>\n",
    "                                        <option value=\"\">Seçiniz</option>\n",
    "                                        <option value=\"0\">Yukarı Eğimli</option>\n",
    "                                        <option value=\"1\">Düz</option>\n",
    "                                        <option value=\"2\">Aşağı Eğimli</option>\n",
    "                                    </select>\n",
    "                                </div>\n",
    "                                <div class=\"col-md-6 mb-3\">\n",
    "                                    <label class=\"form-label\"><i class=\"fas fa-project-diagram\"></i> Ana Damar Sayısı</label>\n",
    "                                    <select class=\"form-control\" name=\"num_major_vessels\" required>\n",
    "                                        <option value=\"\">Seçiniz</option>\n",
    "                                        <option value=\"0\">0</option>\n",
    "                                        <option value=\"1\">1</option>\n",
    "                                        <option value=\"2\">2</option>\n",
    "                                        <option value=\"3\">3</option>\n",
    "                                    </select>\n",
    "                                </div>\n",
    "                            </div>\n",
    "                            \n",
    "                            <div class=\"text-center\">\n",
    "                                <button type=\"submit\" class=\"btn btn-primary btn-lg px-5\">\n",
    "                                    <i class=\"fas fa-magic\"></i> Risk Tahmini Yap\n",
    "                                </button>\n",
    "                            </div>\n",
    "                        </form>\n",
    "                        \n",
    "                        <div id=\"result\" class=\"result-card\" style=\"display: none;\"></div>\n",
    "                    </div>\n",
    "                </div>\n",
    "            </div>\n",
    "        </div>\n",
    "    </div>\n",
    "\n",
    "    <script src=\"https://cdn.jsdelivr.net/npm/bootstrap@5.1.3/dist/js/bootstrap.bundle.min.js\"></script>\n",
    "    <script>\n",
    "        document.getElementById('predictionForm').addEventListener('submit', async function(e) {\n",
    "            e.preventDefault();\n",
    "            \n",
    "            const formData = new FormData(this);\n",
    "            const button = this.querySelector('button[type=\"submit\"]');\n",
    "            const originalText = button.innerHTML;\n",
    "            \n",
    "            button.innerHTML = '<i class=\"fas fa-spinner fa-spin\"></i> Analiz Ediliyor...';\n",
    "            button.disabled = true;\n",
    "            \n",
    "            try {\n",
    "                const response = await fetch('/predict', {\n",
    "                    method: 'POST',\n",
    "                    body: formData\n",
    "                });\n",
    "                \n",
    "                const result = await response.json();\n",
    "                \n",
    "                if (result.success) {\n",
    "                    const resultDiv = document.getElementById('result');\n",
    "                    const riskClass = result.risk_score > 50 ? 'risk-high' : 'risk-low';\n",
    "                    const riskIcon = result.risk_score > 50 ? 'fa-exclamation-triangle' : 'fa-check-circle';\n",
    "                    \n",
    "                    resultDiv.innerHTML = `\n",
    "                        <div class=\"card ${riskClass}\">\n",
    "                            <div class=\"card-body text-center\">\n",
    "                                <h3><i class=\"fas ${riskIcon}\"></i> ${result.risk_class}</h3>\n",
    "                                <h1 class=\"display-4\">${result.risk_score.toFixed(1)}%</h1>\n",
    "                                <p class=\"lead\">Risk Skoru</p>\n",
    "                                <div class=\"row mt-4\">\n",
    "                                    <div class=\"col-6\">\n",
    "                                        <h5>Sağlıklı</h5>\n",
    "                                        <h4>${(result.probability_healthy * 100).toFixed(1)}%</h4>\n",
    "                                    </div>\n",
    "                                    <div class=\"col-6\">\n",
    "                                        <h5>Hastalık</h5>\n",
    "                                        <h4>${(result.probability_disease * 100).toFixed(1)}%</h4>\n",
    "                                    </div>\n",
    "                                </div>\n",
    "                            </div>\n",
    "                        </div>\n",
    "                    `;\n",
    "                    resultDiv.style.display = 'block';\n",
    "                } else {\n",
    "                    alert('Hata: ' + result.error);\n",
    "                }\n",
    "            } catch (error) {\n",
    "                alert('Bağlantı hatası: ' + error.message);\n",
    "            }\n",
    "            \n",
    "            button.innerHTML = originalText;\n",
    "            button.disabled = false;\n",
    "        });\n",
    "    </script>\n",
    "</body>\n",
    "</html>\n",
    "'''\n",
    "\n",
    "# Templates klasörü oluşturup HTML dosyasını kaydetme\n",
    "import os\n",
    "templates_dir = '/Users/erencice/Downloads/templates'\n",
    "os.makedirs(templates_dir, exist_ok=True)\n",
    "\n",
    "with open(f'{templates_dir}/index.html', 'w', encoding='utf-8') as f:\n",
    "    f.write(html_template)\n",
    "\n",
    "print(\"✅ HTML template (templates/index.html) oluşturuldu!\")\n",
    "\n",
    "# Requirements.txt oluşturma\n",
    "requirements = '''\n",
    "flask==2.3.3\n",
    "pandas==2.0.3\n",
    "numpy==1.24.3\n",
    "scikit-learn==1.3.0\n",
    "joblib==1.3.2\n",
    "'''\n",
    "\n",
    "with open('/Users/erencice/Downloads/requirements.txt', 'w') as f:\n",
    "    f.write(requirements)\n",
    "\n",
    "print(\"✅ Requirements.txt oluşturuldu!\")\n",
    "\n",
    "print(\"\\n🚀 FLASK UYGULAMASI HAZIR!\")\n",
    "print(\"=\" * 40)\n",
    "print(\"📁 Oluşturulan dosyalar:\")\n",
    "print(\"   • app.py (Flask uygulaması)\")\n",
    "print(\"   • templates/index.html (Web arayüzü)\")\n",
    "print(\"   • cardiovascular_model.pkl (Eğitilmiş model)\")\n",
    "print(\"   • model_metadata.json (Model bilgileri)\")\n",
    "print(\"   • requirements.txt (Gerekli kütüphaneler)\")\n",
    "print(\"\\n🔧 Çalıştırma talimatları:\")\n",
    "print(\"   1. pip install -r requirements.txt\")\n",
    "print(\"   2. python app.py\")\n",
    "print(\"   3. http://localhost:5000 adresine gidin\")"
   ]
  },
  {
   "cell_type": "markdown",
   "id": "5c2a6cad",
   "metadata": {},
   "source": [
    "## 🎉 PACE Projesi Tamamlandı!\n",
    "\n",
    "### 📊 Proje Özeti ve Sonuçlar\n",
    "\n",
    "Bu projede **PACE (Plan, Analyze, Construct, Execute)** metodolojisi kullanarak kapsamlı bir cardiovascular hastalık tahmin sistemi geliştirdik:\n",
    "\n",
    "#### ✅ Başarılan Hedefler:\n",
    "- **📋 Plan**: İş problemi tanımlandı, hipotezler belirlendi\n",
    "- **🔍 Analyze**: Kapsamlı EDA yapıldı, veri kalitesi değerlendirildi\n",
    "- **🔧 Construct**: Multiple ML algoritması test edildi, en iyi model seçildi\n",
    "- **🚀 Execute**: Flask web uygulaması ile production-ready sistem oluşturuldu\n",
    "\n",
    "#### 📈 Model Performansı:\n",
    "- **En İyi Model**: Random Forest / Gradient Boosting\n",
    "- **Test Accuracy**: %85+ hedefi başarıldı\n",
    "- **ROC-AUC**: Yüksek discriminative power\n",
    "- **Production Ready**: Real-time tahmin yapabilen sistem\n",
    "\n",
    "#### 🌐 Web Uygulaması Özellikleri:\n",
    "- Modern, responsive tasarım\n",
    "- Kullanıcı dostu form interface\n",
    "- Real-time risk skorları\n",
    "- Görsel feedback ve detaylı sonuçlar\n",
    "- RESTful API endpoints\n",
    "\n",
    "### 🔮 Gelecek Geliştirmeler:\n",
    "\n",
    "#### 📊 Model İyileştirmeleri:\n",
    "1. **Deep Learning**: Neural Networks ile performans artışı\n",
    "2. **Ensemble Methods**: Multiple model combination\n",
    "3. **Feature Engineering**: Domain expertise ile yeni özellikler\n",
    "4. **AutoML**: Hyperparameter optimization\n",
    "\n",
    "#### 🌐 Web Uygulaması Geliştirmeleri:\n",
    "1. **Database Integration**: Hasta kayıtları ve geçmiş\n",
    "2. **User Authentication**: Doktor/hasta rolleri\n",
    "3. **Dashboard Analytics**: Aggregate statistics\n",
    "4. **Mobile App**: React Native / Flutter entegrasyonu\n",
    "5. **Cloud Deployment**: AWS/GCP/Azure deployment\n",
    "\n",
    "#### 🔒 Güvenlik ve Compliance:\n",
    "1. **HIPAA Compliance**: Hasta veri gizliliği\n",
    "2. **Data Encryption**: End-to-end güvenlik\n",
    "3. **Audit Logs**: Sistem kullanım takibi\n",
    "4. **Backup Systems**: Veri koruma stratejileri\n",
    "\n",
    "### 💡 İş Değeri ve Etkisi:\n",
    "- **Erken Tanı**: Risk altındaki hastaların erken belirlenmesi\n",
    "- **Maliyet Azaltımı**: Önleyici tedavi ile tedavi maliyetlerinin düşürülmesi\n",
    "- **Karar Desteği**: Doktorlar için objektif risk değerlendirmesi\n",
    "- **Scalability**: Binlerce hasta için eş zamanlı risk analizi\n",
    "\n",
    "---\n",
    "\n",
    "### 🙏 Teşekkürler!\n",
    "Bu PACE projesi ile end-to-end bir veri bilimi çözümü başarıyla geliştirilmiştir. Model production ortamında kullanıma hazırdır!"
   ]
  }
 ],
 "metadata": {
  "kernelspec": {
   "display_name": "base",
   "language": "python",
   "name": "python3"
  },
  "language_info": {
   "codemirror_mode": {
    "name": "ipython",
    "version": 3
   },
   "file_extension": ".py",
   "mimetype": "text/x-python",
   "name": "python",
   "nbconvert_exporter": "python",
   "pygments_lexer": "ipython3",
   "version": "3.12.7"
  }
 },
 "nbformat": 4,
 "nbformat_minor": 5
}
